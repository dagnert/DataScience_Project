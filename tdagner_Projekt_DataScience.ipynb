{
  "nbformat": 4,
  "nbformat_minor": 0,
  "metadata": {
    "kernelspec": {
      "name": "python3",
      "display_name": "Python 3",
      "language": "python"
    },
    "language_info": {
      "name": "python",
      "version": "3.7.6",
      "mimetype": "text/x-python",
      "codemirror_mode": {
        "name": "ipython",
        "version": 3
      },
      "pygments_lexer": "ipython3",
      "nbconvert_exporter": "python",
      "file_extension": ".py"
    },
    "colab": {
      "name": "tdagner_Projekt_DataScience.ipynb",
      "provenance": [],
      "collapsed_sections": []
    }
  },
  "cells": [
    {
      "cell_type": "markdown",
      "metadata": {
        "id": "WTBw1jICWy0W",
        "colab_type": "text"
      },
      "source": [
        "## **Real or Not? NLP with Disaster Tweets <br>**\n",
        "Kaggle ID: 5124789<br>\n",
        "Kaggle Name: tizdag<br>\n",
        "Kaggle Score: 0.84492 <br>\n",
        "Leaderboard position: 95 (The first 66 notebooks achieved an unrealistically high score, which is due to leaked solutions.) <br>\n",
        "Predict which Tweets are about real disasters and which ones are not\n",
        "![alt text](https://miro.medium.com/max/1400/0*z9jqZsQ7JSTZGSZz.jpg)<br>\n",
        "This notebook was created without cooperation partners."
      ]
    },
    {
      "cell_type": "code",
      "metadata": {
        "id": "Bmcv_s96nDBi",
        "trusted": true,
        "colab_type": "code",
        "colab": {},
        "outputId": "21541956-e085-43ad-8422-bbd57321cfaf"
      },
      "source": [
        "!pip install tensorflow_hub\n",
        "!pip install bert-for-tf2\n",
        "!pip install python-Levenshtein==0.12.0"
      ],
      "execution_count": null,
      "outputs": [
        {
          "output_type": "stream",
          "text": [
            "Requirement already satisfied: tensorflow_hub in /opt/conda/lib/python3.7/site-packages (0.9.0)\n",
            "Requirement already satisfied: six>=1.12.0 in /opt/conda/lib/python3.7/site-packages (from tensorflow_hub) (1.14.0)\n",
            "Requirement already satisfied: numpy>=1.12.0 in /opt/conda/lib/python3.7/site-packages (from tensorflow_hub) (1.18.5)\n",
            "Requirement already satisfied: protobuf>=3.8.0 in /opt/conda/lib/python3.7/site-packages (from tensorflow_hub) (3.13.0)\n",
            "Requirement already satisfied: setuptools in /opt/conda/lib/python3.7/site-packages (from protobuf>=3.8.0->tensorflow_hub) (46.1.3.post20200325)\n",
            "Collecting bert-for-tf2\n",
            "  Downloading bert-for-tf2-0.14.5.tar.gz (40 kB)\n",
            "\u001b[K     |████████████████████████████████| 40 kB 951 kB/s eta 0:00:01\n",
            "\u001b[?25hCollecting py-params>=0.9.6\n",
            "  Downloading py-params-0.9.7.tar.gz (6.8 kB)\n",
            "Collecting params-flow>=0.8.0\n",
            "  Downloading params-flow-0.8.2.tar.gz (22 kB)\n",
            "Requirement already satisfied: numpy in /opt/conda/lib/python3.7/site-packages (from params-flow>=0.8.0->bert-for-tf2) (1.18.5)\n",
            "Requirement already satisfied: tqdm in /opt/conda/lib/python3.7/site-packages (from params-flow>=0.8.0->bert-for-tf2) (4.45.0)\n",
            "Building wheels for collected packages: bert-for-tf2, py-params, params-flow\n",
            "  Building wheel for bert-for-tf2 (setup.py) ... \u001b[?25ldone\n",
            "\u001b[?25h  Created wheel for bert-for-tf2: filename=bert_for_tf2-0.14.5-py3-none-any.whl size=30314 sha256=895c75fa7bd9d0e2c5f14f4d8aed362ca26a74e1d5e0f185b4ad7b45521c7de4\n",
            "  Stored in directory: /root/.cache/pip/wheels/b2/59/55/26a1acfa05bd61bc2da49333c3a8c0ba01465ad34471991459\n",
            "  Building wheel for py-params (setup.py) ... \u001b[?25ldone\n",
            "\u001b[?25h  Created wheel for py-params: filename=py_params-0.9.7-py3-none-any.whl size=7302 sha256=fdc44b53dd8fae0b3dabbeb7f74dbffec0ce0530059a0d30efd0535ac8c26e16\n",
            "  Stored in directory: /root/.cache/pip/wheels/47/3d/2d/bbffcfd6b9f4b8b5cbf07e7520ac2676192fe9431240c13ee8\n",
            "  Building wheel for params-flow (setup.py) ... \u001b[?25ldone\n",
            "\u001b[?25h  Created wheel for params-flow: filename=params_flow-0.8.2-py3-none-any.whl size=19473 sha256=6ccb57bf0a692f4f3c516c9cf0149a50828c928f10ea4bdce15a5ca660a38949\n",
            "  Stored in directory: /root/.cache/pip/wheels/0e/fc/d2/a44fff33af0f233d7def6e7de413006d57c10e10ad736fe8f5\n",
            "Successfully built bert-for-tf2 py-params params-flow\n",
            "Installing collected packages: py-params, params-flow, bert-for-tf2\n",
            "Successfully installed bert-for-tf2-0.14.5 params-flow-0.8.2 py-params-0.9.7\n",
            "Requirement already satisfied: python-Levenshtein==0.12.0 in /opt/conda/lib/python3.7/site-packages (0.12.0)\n",
            "Requirement already satisfied: setuptools in /opt/conda/lib/python3.7/site-packages (from python-Levenshtein==0.12.0) (46.1.3.post20200325)\n"
          ],
          "name": "stdout"
        }
      ]
    },
    {
      "cell_type": "code",
      "metadata": {
        "id": "T0bJDE-zYqwj",
        "trusted": true,
        "colab_type": "code",
        "colab": {},
        "outputId": "ea93fdf9-0f01-4ef0-83d4-9a4d92b4704e"
      },
      "source": [
        "# import necessary libaries\n",
        "import os\n",
        "import pandas as pd\n",
        "import numpy as np\n",
        "import matplotlib.pyplot as plt\n",
        "import seaborn as sns\n",
        "import string\n",
        "import nltk\n",
        "nltk.download('stopwords')\n",
        "from nltk.corpus import stopwords \n",
        "import re\n",
        "from gensim.models import Word2Vec, KeyedVectors\n",
        "from sklearn.pipeline import Pipeline\n",
        "from sklearn.linear_model import LogisticRegression\n",
        "from sklearn.svm import SVC\n",
        "from sklearn.model_selection import cross_val_score, GridSearchCV\n",
        "import tensorflow_hub as hub\n",
        "import tensorflow as tf\n",
        "from tensorflow.keras.layers import Dense, Input, Concatenate, Dropout, Average, Dropout\n",
        "from tensorflow.keras.optimizers import Adam\n",
        "from tensorflow.keras.callbacks import ModelCheckpoint\n",
        "import tensorflow_hub as hub\n",
        "import bert\n",
        "from tensorflow.keras.models import Model\n",
        "from sklearn.preprocessing import StandardScaler"
      ],
      "execution_count": null,
      "outputs": [
        {
          "output_type": "stream",
          "text": [
            "[nltk_data] Downloading package stopwords to /usr/share/nltk_data...\n",
            "[nltk_data]   Package stopwords is already up-to-date!\n"
          ],
          "name": "stdout"
        }
      ]
    },
    {
      "cell_type": "code",
      "metadata": {
        "id": "BLpS5VbvX82A",
        "trusted": true,
        "colab_type": "code",
        "colab": {}
      },
      "source": [
        "# load all necessary data from kaggle\n",
        "train = pd.read_csv('../input/nlp-getting-started/train.csv', index_col='id')\n",
        "test = pd.read_csv('../input/nlp-getting-started/test.csv', index_col='id')\n",
        "sub_sample = pd.read_csv('../input/nlp-getting-started/sample_submission.csv')"
      ],
      "execution_count": null,
      "outputs": []
    },
    {
      "cell_type": "markdown",
      "metadata": {
        "id": "l5HUYYK06IX4",
        "colab_type": "text"
      },
      "source": [
        "Take a first look at the data and the structure"
      ]
    },
    {
      "cell_type": "code",
      "metadata": {
        "id": "R2FRTxrbfrh1",
        "trusted": true,
        "colab_type": "code",
        "colab": {},
        "outputId": "c8fd446c-9758-4fc5-ca05-81417a8287b2"
      },
      "source": [
        "train.head()"
      ],
      "execution_count": null,
      "outputs": [
        {
          "output_type": "execute_result",
          "data": {
            "text/plain": [
              "   keyword location                                               text  target\n",
              "id                                                                            \n",
              "1      NaN      NaN  Our Deeds are the Reason of this #earthquake M...       1\n",
              "4      NaN      NaN             Forest fire near La Ronge Sask. Canada       1\n",
              "5      NaN      NaN  All residents asked to 'shelter in place' are ...       1\n",
              "6      NaN      NaN  13,000 people receive #wildfires evacuation or...       1\n",
              "7      NaN      NaN  Just got sent this photo from Ruby #Alaska as ...       1"
            ],
            "text/html": [
              "<div>\n",
              "<style scoped>\n",
              "    .dataframe tbody tr th:only-of-type {\n",
              "        vertical-align: middle;\n",
              "    }\n",
              "\n",
              "    .dataframe tbody tr th {\n",
              "        vertical-align: top;\n",
              "    }\n",
              "\n",
              "    .dataframe thead th {\n",
              "        text-align: right;\n",
              "    }\n",
              "</style>\n",
              "<table border=\"1\" class=\"dataframe\">\n",
              "  <thead>\n",
              "    <tr style=\"text-align: right;\">\n",
              "      <th></th>\n",
              "      <th>keyword</th>\n",
              "      <th>location</th>\n",
              "      <th>text</th>\n",
              "      <th>target</th>\n",
              "    </tr>\n",
              "    <tr>\n",
              "      <th>id</th>\n",
              "      <th></th>\n",
              "      <th></th>\n",
              "      <th></th>\n",
              "      <th></th>\n",
              "    </tr>\n",
              "  </thead>\n",
              "  <tbody>\n",
              "    <tr>\n",
              "      <th>1</th>\n",
              "      <td>NaN</td>\n",
              "      <td>NaN</td>\n",
              "      <td>Our Deeds are the Reason of this #earthquake M...</td>\n",
              "      <td>1</td>\n",
              "    </tr>\n",
              "    <tr>\n",
              "      <th>4</th>\n",
              "      <td>NaN</td>\n",
              "      <td>NaN</td>\n",
              "      <td>Forest fire near La Ronge Sask. Canada</td>\n",
              "      <td>1</td>\n",
              "    </tr>\n",
              "    <tr>\n",
              "      <th>5</th>\n",
              "      <td>NaN</td>\n",
              "      <td>NaN</td>\n",
              "      <td>All residents asked to 'shelter in place' are ...</td>\n",
              "      <td>1</td>\n",
              "    </tr>\n",
              "    <tr>\n",
              "      <th>6</th>\n",
              "      <td>NaN</td>\n",
              "      <td>NaN</td>\n",
              "      <td>13,000 people receive #wildfires evacuation or...</td>\n",
              "      <td>1</td>\n",
              "    </tr>\n",
              "    <tr>\n",
              "      <th>7</th>\n",
              "      <td>NaN</td>\n",
              "      <td>NaN</td>\n",
              "      <td>Just got sent this photo from Ruby #Alaska as ...</td>\n",
              "      <td>1</td>\n",
              "    </tr>\n",
              "  </tbody>\n",
              "</table>\n",
              "</div>"
            ]
          },
          "metadata": {
            "tags": []
          },
          "execution_count": 4
        }
      ]
    },
    {
      "cell_type": "code",
      "metadata": {
        "id": "s4vzrkcrwMrT",
        "trusted": true,
        "colab_type": "code",
        "colab": {},
        "outputId": "7a29edd3-f4e3-461e-9c9e-c5f4a67f0408"
      },
      "source": [
        "test.head()"
      ],
      "execution_count": null,
      "outputs": [
        {
          "output_type": "execute_result",
          "data": {
            "text/plain": [
              "   keyword location                                               text\n",
              "id                                                                    \n",
              "0      NaN      NaN                 Just happened a terrible car crash\n",
              "2      NaN      NaN  Heard about #earthquake is different cities, s...\n",
              "3      NaN      NaN  there is a forest fire at spot pond, geese are...\n",
              "9      NaN      NaN           Apocalypse lighting. #Spokane #wildfires\n",
              "11     NaN      NaN      Typhoon Soudelor kills 28 in China and Taiwan"
            ],
            "text/html": [
              "<div>\n",
              "<style scoped>\n",
              "    .dataframe tbody tr th:only-of-type {\n",
              "        vertical-align: middle;\n",
              "    }\n",
              "\n",
              "    .dataframe tbody tr th {\n",
              "        vertical-align: top;\n",
              "    }\n",
              "\n",
              "    .dataframe thead th {\n",
              "        text-align: right;\n",
              "    }\n",
              "</style>\n",
              "<table border=\"1\" class=\"dataframe\">\n",
              "  <thead>\n",
              "    <tr style=\"text-align: right;\">\n",
              "      <th></th>\n",
              "      <th>keyword</th>\n",
              "      <th>location</th>\n",
              "      <th>text</th>\n",
              "    </tr>\n",
              "    <tr>\n",
              "      <th>id</th>\n",
              "      <th></th>\n",
              "      <th></th>\n",
              "      <th></th>\n",
              "    </tr>\n",
              "  </thead>\n",
              "  <tbody>\n",
              "    <tr>\n",
              "      <th>0</th>\n",
              "      <td>NaN</td>\n",
              "      <td>NaN</td>\n",
              "      <td>Just happened a terrible car crash</td>\n",
              "    </tr>\n",
              "    <tr>\n",
              "      <th>2</th>\n",
              "      <td>NaN</td>\n",
              "      <td>NaN</td>\n",
              "      <td>Heard about #earthquake is different cities, s...</td>\n",
              "    </tr>\n",
              "    <tr>\n",
              "      <th>3</th>\n",
              "      <td>NaN</td>\n",
              "      <td>NaN</td>\n",
              "      <td>there is a forest fire at spot pond, geese are...</td>\n",
              "    </tr>\n",
              "    <tr>\n",
              "      <th>9</th>\n",
              "      <td>NaN</td>\n",
              "      <td>NaN</td>\n",
              "      <td>Apocalypse lighting. #Spokane #wildfires</td>\n",
              "    </tr>\n",
              "    <tr>\n",
              "      <th>11</th>\n",
              "      <td>NaN</td>\n",
              "      <td>NaN</td>\n",
              "      <td>Typhoon Soudelor kills 28 in China and Taiwan</td>\n",
              "    </tr>\n",
              "  </tbody>\n",
              "</table>\n",
              "</div>"
            ]
          },
          "metadata": {
            "tags": []
          },
          "execution_count": 5
        }
      ]
    },
    {
      "cell_type": "code",
      "metadata": {
        "id": "t-iyMKJD1CFW",
        "trusted": true,
        "colab_type": "code",
        "colab": {},
        "outputId": "9e8ca1d0-d3c6-4f73-d3dd-9c64d1577885"
      },
      "source": [
        "sub_sample.head()"
      ],
      "execution_count": null,
      "outputs": [
        {
          "output_type": "execute_result",
          "data": {
            "text/plain": [
              "   id  target\n",
              "0   0       0\n",
              "1   2       0\n",
              "2   3       0\n",
              "3   9       0\n",
              "4  11       0"
            ],
            "text/html": [
              "<div>\n",
              "<style scoped>\n",
              "    .dataframe tbody tr th:only-of-type {\n",
              "        vertical-align: middle;\n",
              "    }\n",
              "\n",
              "    .dataframe tbody tr th {\n",
              "        vertical-align: top;\n",
              "    }\n",
              "\n",
              "    .dataframe thead th {\n",
              "        text-align: right;\n",
              "    }\n",
              "</style>\n",
              "<table border=\"1\" class=\"dataframe\">\n",
              "  <thead>\n",
              "    <tr style=\"text-align: right;\">\n",
              "      <th></th>\n",
              "      <th>id</th>\n",
              "      <th>target</th>\n",
              "    </tr>\n",
              "  </thead>\n",
              "  <tbody>\n",
              "    <tr>\n",
              "      <th>0</th>\n",
              "      <td>0</td>\n",
              "      <td>0</td>\n",
              "    </tr>\n",
              "    <tr>\n",
              "      <th>1</th>\n",
              "      <td>2</td>\n",
              "      <td>0</td>\n",
              "    </tr>\n",
              "    <tr>\n",
              "      <th>2</th>\n",
              "      <td>3</td>\n",
              "      <td>0</td>\n",
              "    </tr>\n",
              "    <tr>\n",
              "      <th>3</th>\n",
              "      <td>9</td>\n",
              "      <td>0</td>\n",
              "    </tr>\n",
              "    <tr>\n",
              "      <th>4</th>\n",
              "      <td>11</td>\n",
              "      <td>0</td>\n",
              "    </tr>\n",
              "  </tbody>\n",
              "</table>\n",
              "</div>"
            ]
          },
          "metadata": {
            "tags": []
          },
          "execution_count": 6
        }
      ]
    },
    {
      "cell_type": "code",
      "metadata": {
        "id": "RtobKXkkfubC",
        "trusted": true,
        "colab_type": "code",
        "colab": {},
        "outputId": "aa9d963c-bf37-4e7d-e7ef-2bc651d0e643"
      },
      "source": [
        "# In order to get an overview how big the dataset is, we use shape\n",
        "print(train.shape)\n",
        "print(test.shape)\n",
        "print(sub_sample.shape)"
      ],
      "execution_count": null,
      "outputs": [
        {
          "output_type": "stream",
          "text": [
            "(7613, 4)\n",
            "(3263, 3)\n",
            "(3263, 2)\n"
          ],
          "name": "stdout"
        }
      ]
    },
    {
      "cell_type": "code",
      "metadata": {
        "id": "PhmzRe8ZZ4FR",
        "trusted": true,
        "colab_type": "code",
        "colab": {},
        "outputId": "b46b3f54-6682-4631-c7b4-fbd0bc1689c9"
      },
      "source": [
        "train.info()\n",
        "#we can get displayed, which columns are part of the data and the corresponding data type"
      ],
      "execution_count": null,
      "outputs": [
        {
          "output_type": "stream",
          "text": [
            "<class 'pandas.core.frame.DataFrame'>\n",
            "Int64Index: 7613 entries, 1 to 10873\n",
            "Data columns (total 4 columns):\n",
            " #   Column    Non-Null Count  Dtype \n",
            "---  ------    --------------  ----- \n",
            " 0   keyword   7552 non-null   object\n",
            " 1   location  5080 non-null   object\n",
            " 2   text      7613 non-null   object\n",
            " 3   target    7613 non-null   int64 \n",
            "dtypes: int64(1), object(3)\n",
            "memory usage: 297.4+ KB\n"
          ],
          "name": "stdout"
        }
      ]
    },
    {
      "cell_type": "markdown",
      "metadata": {
        "id": "iAO5GeS06Cfw",
        "colab_type": "text"
      },
      "source": [
        "Check how many values are missing"
      ]
    },
    {
      "cell_type": "code",
      "metadata": {
        "id": "UrkCNRv1f8t7",
        "trusted": true,
        "colab_type": "code",
        "colab": {},
        "outputId": "ee8fc6e6-b1b8-41a8-8970-94be2b568dab"
      },
      "source": [
        "#missing values are really important for the models, so we need to know which data is missing\n",
        "#as we can see, the location is missing in almost 1/3 of the tweets, so it's hard to base the model on this column, \n",
        "#it'll just be an additional information\n",
        "train.isnull().sum()"
      ],
      "execution_count": null,
      "outputs": [
        {
          "output_type": "execute_result",
          "data": {
            "text/plain": [
              "keyword       61\n",
              "location    2533\n",
              "text           0\n",
              "target         0\n",
              "dtype: int64"
            ]
          },
          "metadata": {
            "tags": []
          },
          "execution_count": 9
        }
      ]
    },
    {
      "cell_type": "code",
      "metadata": {
        "id": "34o8RepA7RRl",
        "trusted": true,
        "colab_type": "code",
        "colab": {},
        "outputId": "f73bf6c2-125b-41b1-c97e-433d580bf326"
      },
      "source": [
        "test.isnull().sum()"
      ],
      "execution_count": null,
      "outputs": [
        {
          "output_type": "execute_result",
          "data": {
            "text/plain": [
              "keyword       26\n",
              "location    1105\n",
              "text           0\n",
              "dtype: int64"
            ]
          },
          "metadata": {
            "tags": []
          },
          "execution_count": 10
        }
      ]
    },
    {
      "cell_type": "code",
      "metadata": {
        "id": "179BXpI0kTqF",
        "trusted": true,
        "colab_type": "code",
        "colab": {},
        "outputId": "6f2f1083-b51e-4c83-9554-42c4b05aeef9"
      },
      "source": [
        "#with the percentage, we get a better impression of how much data is proportionally missing\n",
        "print(\"Percentage of keywords missing in train data:\", (len(train[train['keyword'].isnull()==True])/train.shape[0])*100,\"%\")\n",
        "print(\"Percentage of keywords missing in test data:\", (len(test[test['keyword'].isnull()==True])/test.shape[0])*100,\"%\")\n",
        "print(\"Percentage of location missing in train data:\", (len(train[train['location'].isnull()==True])/train.shape[0])*100,\"%\")\n",
        "print(\"Percentage of location missing in test data:\", (len(test[test['location'].isnull()==True])/test.shape[0])*100,\"%\")"
      ],
      "execution_count": null,
      "outputs": [
        {
          "output_type": "stream",
          "text": [
            "Percentage of keywords missing in train data: 0.8012610009194797 %\n",
            "Percentage of keywords missing in test data: 0.796812749003984 %\n",
            "Percentage of location missing in train data: 33.27203467752528 %\n",
            "Percentage of location missing in test data: 33.86454183266932 %\n"
          ],
          "name": "stdout"
        }
      ]
    },
    {
      "cell_type": "code",
      "metadata": {
        "trusted": true,
        "id": "Mb03IBQjdBKq",
        "colab_type": "code",
        "colab": {},
        "outputId": "cafffa5c-e14c-4c19-bc72-38a085589733"
      },
      "source": [
        "#replace NaN values with no_keyword/no_location\n",
        "print(\"Replacing NaN values with no_keyword and no_location\")\n",
        "train[\"keyword\"] = train[\"keyword\"].fillna('no_keyword')\n",
        "train[\"location\"] = train[\"location\"].fillna('no_location')\n",
        "test[\"keyword\"] = test[\"keyword\"].fillna('no_keyword')\n",
        "test[\"location\"] = test[\"location\"].fillna('no_location')"
      ],
      "execution_count": null,
      "outputs": [
        {
          "output_type": "stream",
          "text": [
            "Replacing NaN values with no_keyword and no_location\n"
          ],
          "name": "stdout"
        }
      ]
    },
    {
      "cell_type": "code",
      "metadata": {
        "trusted": true,
        "id": "bBa1e3BHdBKt",
        "colab_type": "code",
        "colab": {},
        "outputId": "9103cdfe-27f0-4862-a7d2-65467431e266"
      },
      "source": [
        "# remove complete duplicates, keep only the first occurence\n",
        "print(train.shape)\n",
        "train.drop_duplicates(keep='first', inplace=True)\n",
        "print(train.shape)\n",
        "# check other duplicates\n",
        "train.drop_duplicates('text', keep=False, inplace=True)\n",
        "print(train.shape)"
      ],
      "execution_count": null,
      "outputs": [
        {
          "output_type": "stream",
          "text": [
            "(7613, 4)\n",
            "(7561, 4)\n",
            "(7455, 4)\n"
          ],
          "name": "stdout"
        }
      ]
    },
    {
      "cell_type": "markdown",
      "metadata": {
        "id": "YrlbY0qp52TU",
        "colab_type": "text"
      },
      "source": [
        "Check if there are still duplicates in train or test data"
      ]
    },
    {
      "cell_type": "code",
      "metadata": {
        "id": "3Yd9yKqPgE3P",
        "trusted": true,
        "colab_type": "code",
        "colab": {},
        "outputId": "2d011bda-2b74-4893-a87f-0dd87593170f"
      },
      "source": [
        "#Duplicates would falsify the result more quickly with a relatively small data set. This must also be taken into account with regard to overfitting.\n",
        "print(\"Duplicate in train: \" + str(train.duplicated().sum()))\n",
        "print(\"Duplicate in test: \" + str(test.duplicated().sum()))"
      ],
      "execution_count": null,
      "outputs": [
        {
          "output_type": "stream",
          "text": [
            "Duplicate in train: 0\n",
            "Duplicate in test: 11\n"
          ],
          "name": "stdout"
        }
      ]
    },
    {
      "cell_type": "markdown",
      "metadata": {
        "id": "uF9sydwM2pYv",
        "colab_type": "text"
      },
      "source": [
        "Check whether a similar number of examples exist for classifications \"1\" and \"0\n",
        "\n"
      ]
    },
    {
      "cell_type": "code",
      "metadata": {
        "id": "hnMd1XK-jWzg",
        "trusted": true,
        "colab_type": "code",
        "colab": {},
        "outputId": "ac809365-5bd1-411a-8eba-8fc449da87cc"
      },
      "source": [
        "#The distribution within the classification may also affect the final result.\n",
        "target0 = train['target'].value_counts()[0]\n",
        "target1 = train['target'].value_counts()[1]\n",
        "labels = '0', '1'\n",
        "sizes = [target0, target1]\n",
        "\n",
        "fig, ax = plt.subplots()\n",
        "ax.pie(sizes, labels=labels, autopct='%1.1f%%')\n",
        "ax.axis('equal')\n",
        "ax.set_title(\"classifications\")\n",
        "\n",
        "plt.show()\n",
        "#as about 57,6% of the data is classified as no disaster, 42,4% are real disasters - not a perfect distribution, but the dataset should be big enough"
      ],
      "execution_count": null,
      "outputs": [
        {
          "output_type": "display_data",
          "data": {
            "text/plain": [
              "<Figure size 432x288 with 1 Axes>"
            ],
            "image/png": "[encoded data removed]"
          },
          "metadata": {
            "tags": []
          }
        }
      ]
    },
    {
      "cell_type": "markdown",
      "metadata": {
        "id": "zq75drzu7rKI",
        "colab_type": "text"
      },
      "source": [
        "Check the number of unique keywords and if they are similar for train and test set"
      ]
    },
    {
      "cell_type": "code",
      "metadata": {
        "id": "CmbxvMhg3wTD",
        "trusted": true,
        "colab_type": "code",
        "colab": {},
        "outputId": "fea5baed-e4b4-4682-b8f8-6599aed46a34"
      },
      "source": [
        "print (\"Train: \" + str(train.keyword.nunique()))\n",
        "print (\"Test: \" + str(test.keyword.nunique()))\n",
        "#as the number of used keywords is similar, we can take a closer look at the used keywords"
      ],
      "execution_count": null,
      "outputs": [
        {
          "output_type": "stream",
          "text": [
            "Train: 222\n",
            "Test: 222\n"
          ],
          "name": "stdout"
        }
      ]
    },
    {
      "cell_type": "markdown",
      "metadata": {
        "id": "VIZZu0xp7-sk",
        "colab_type": "text"
      },
      "source": [
        "Show the most used keywords in both dataset"
      ]
    },
    {
      "cell_type": "code",
      "metadata": {
        "id": "VdG5E_L579Df",
        "trusted": true,
        "colab_type": "code",
        "colab": {},
        "outputId": "e29c64f5-8d9d-43d1-b884-b307734e6bdf"
      },
      "source": [
        "plt.figure()\n",
        "sns.countplot(y=train.keyword, order = train.keyword.value_counts().iloc[:10].index, palette=\"rocket\")\n",
        "plt.title('Top 10 keywords in train data')\n",
        "plt.show()\n",
        "\n",
        "plt.figure()\n",
        "sns.countplot(y=test.keyword, order = test.keyword.value_counts().iloc[:10].index, palette=\"rocket\")\n",
        "plt.title('Top 10 keywords in test data')\n",
        "plt.show()"
      ],
      "execution_count": null,
      "outputs": [
        {
          "output_type": "display_data",
          "data": {
            "text/plain": [
              "<Figure size 432x288 with 1 Axes>"
            ],
            "image/png": "[encoded data removed]"
          },
          "metadata": {
            "tags": [],
            "needs_background": "light"
          }
        },
        {
          "output_type": "display_data",
          "data": {
            "text/plain": [
              "<Figure size 432x288 with 1 Axes>"
            ],
            "image/png": "[encoded data removed]"
          },
          "metadata": {
            "tags": [],
            "needs_background": "light"
          }
        }
      ]
    },
    {
      "cell_type": "markdown",
      "metadata": {
        "id": "TcJTRvvJ712y",
        "colab_type": "text"
      },
      "source": [
        "Compare most used keywords in train data for disaster tweets and non-disaster tweets"
      ]
    },
    {
      "cell_type": "code",
      "metadata": {
        "id": "ZYVvxSZt9IvL",
        "trusted": true,
        "colab_type": "code",
        "colab": {},
        "outputId": "db90586d-63a9-4967-8d32-0c9eedde5710"
      },
      "source": [
        "disaster = train[train.target==1].keyword.value_counts().head(15)\n",
        "nodisaster = train[train.target==0].keyword.value_counts().head(15)\n",
        "\n",
        "plt.figure(figsize=(17,5))\n",
        "plt.subplot(121)\n",
        "sns.barplot(disaster, disaster.index, palette=\"rocket\")\n",
        "plt.title('Top 10 keywords disaster')\n",
        "plt.subplot(122)\n",
        "sns.barplot(nodisaster, nodisaster.index, palette=\"rocket\")\n",
        "plt.title('Top 10 keywords non-disaster')\n",
        "plt.show()\n"
      ],
      "execution_count": null,
      "outputs": [
        {
          "output_type": "display_data",
          "data": {
            "text/plain": [
              "<Figure size 1224x360 with 2 Axes>"
            ],
            "image/png": "[encoded data removed]"
          },
          "metadata": {
            "tags": [],
            "needs_background": "light"
          }
        }
      ]
    },
    {
      "cell_type": "code",
      "metadata": {
        "id": "8oefe4GYAKtd",
        "trusted": true,
        "colab_type": "code",
        "colab": {},
        "outputId": "ba437664-fd50-48ee-c39e-9661f5532637"
      },
      "source": [
        "#Since there is no overlap in the above graphic, a look at the assignment of keywords to the respective class might be a good approach.\n",
        "train['target_mean'] = train.groupby('keyword')['target'].transform('mean')\n",
        "\n",
        "fig = plt.figure(figsize=(5, 50))\n",
        "\n",
        "sns.countplot(y=train.sort_values(by='target_mean', ascending=False)['keyword'],\n",
        "              hue=train.sort_values(by='target_mean', ascending=False)['target'],palette=[\"#df0101\", \"#848484\"])\n",
        "\n",
        "plt.tick_params(axis='x', labelsize=15)\n",
        "plt.tick_params(axis='y', labelsize=12)\n",
        "plt.legend(loc=1)\n",
        "plt.title('Target Distribution in Keywords')\n",
        "\n",
        "plt.show()"
      ],
      "execution_count": null,
      "outputs": [
        {
          "output_type": "display_data",
          "data": {
            "text/plain": [
              "<Figure size 360x3600 with 1 Axes>"
            ],
            "image/png": "[encoded data removed]"
          },
          "metadata": {
            "tags": [],
            "needs_background": "light"
          }
        }
      ]
    },
    {
      "cell_type": "markdown",
      "metadata": {
        "id": "62xGI2ud_3T7",
        "colab_type": "text"
      },
      "source": [
        "Show the most used locations"
      ]
    },
    {
      "cell_type": "code",
      "metadata": {
        "id": "wYvIOagN95eI",
        "trusted": true,
        "colab_type": "code",
        "colab": {},
        "outputId": "7a72739a-b06a-4b98-f49c-b502d921773d"
      },
      "source": [
        "plt.figure(figsize=(9,6))\n",
        "sns.countplot(y=train.location, order = train.location.value_counts().iloc[:10].index, palette=\"rocket\")\n",
        "plt.title('Top 10 locations')\n",
        "plt.show()\n",
        "#It can be seen that the locations are obviously not generated automatically, as no clear pattern can be identified. \n",
        "#Some of the data are countries and some cities within the countries already mentioned."
      ],
      "execution_count": null,
      "outputs": [
        {
          "output_type": "display_data",
          "data": {
            "text/plain": [
              "<Figure size 648x432 with 1 Axes>"
            ],
            "image/png": "[encoded data removed]"
          },
          "metadata": {
            "tags": [],
            "needs_background": "light"
          }
        }
      ]
    },
    {
      "cell_type": "markdown",
      "metadata": {
        "id": "HbEJ2d9lpgzl",
        "trusted": true,
        "colab_type": "text"
      },
      "source": [
        "As locations are obviously not generated automatically, they shouldn't allways be used as a keyfeature in following steps.\n",
        "Much more important seems to be the influence of single keywords on the final classification of the tweet"
      ]
    },
    {
      "cell_type": "markdown",
      "metadata": {
        "id": "3DiFAs6o_aaq",
        "colab_type": "text"
      },
      "source": [
        "Additional information, which could be useful for following steps: <br>\n",
        "\n",
        "\n",
        "`word_count` number of words in text <br>\n",
        "`char_count` number of characters in text <br>\n",
        "`unique_word_count` number of unique words in text <br>\n",
        "`url_count` number of urls in text <br>\n",
        "`mean_word_length` average character count in words <br>\n",
        "`punctuation_count` number of punctuations in text <br>\n",
        "`hashtag_count` number of hashtags # in text <br>\n",
        "`mention_count` number of mentions @ in text <br>"
      ]
    },
    {
      "cell_type": "code",
      "metadata": {
        "id": "2Wl0ZV8PCRLi",
        "trusted": true,
        "colab_type": "code",
        "colab": {}
      },
      "source": [
        "# word_count (method found at: https://www.geeksforgeeks.org/python-program-to-count-words-in-a-sentence/)\n",
        "train['word_count'] = train['text'].apply(lambda x: len(str(x).split()))\n",
        "test['word_count'] = test['text'].apply(lambda x: len(str(x).split()))\n",
        "\n",
        "#char_count\n",
        "train['char_count'] = train['text'].apply(lambda x: len(x))\n",
        "test['char_count'] = test['text'].apply(lambda x: len(x))\n",
        "\n",
        "# unique_word_count (method found at: https://stackoverflow.com/questions/33726361/counting-the-number-of-unique-words-in-a-list)\n",
        "train['unique_word_count'] = train['text'].apply(lambda x: len(set(str(x).split())))\n",
        "test['unique_word_count'] = test['text'].apply(lambda x: len(set(str(x).split())))\n",
        "\n",
        "# link_count \n",
        "train['link_count'] = train['text'].apply(lambda x: len([w for w in str(x).lower().split() if 'http' in w or 'https' in w]))\n",
        "test['link_count'] = test['text'].apply(lambda x: len([w for w in str(x).lower().split() if 'http' in w or 'https' in w]))\n",
        "\n",
        "# mean_word_length\n",
        "train['mean_word_length'] = train['text'].apply(lambda x: np.mean([len(w) for w in str(x).split()]))\n",
        "test['mean_word_length'] = test['text'].apply(lambda x: np.mean([len(w) for w in str(x).split()]))\n",
        "\n",
        "# punctuation_count (method found at https://stackoverflow.com/questions/6969268/counting-letters-numbers-and-punctuation-in-a-string)\n",
        "train['punctuation_count'] = train['text'].apply(lambda x: len([c for c in str(x) if c in string.punctuation]))\n",
        "test['punctuation_count'] = test['text'].apply(lambda x: len([c for c in str(x) if c in string.punctuation]))\n",
        "\n",
        "# hashtag_count\n",
        "train['hashtag_count'] = train['text'].apply(lambda x: len([c for c in str(x) if c == '#']))\n",
        "test['hashtag_count'] = test['text'].apply(lambda x: len([c for c in str(x) if c == '#']))\n",
        "\n",
        "# at_count\n",
        "train['at_count'] = train['text'].apply(lambda x: len([c for c in str(x) if c == '@']))\n",
        "test['at_count'] = test['text'].apply(lambda x: len([c for c in str(x) if c == '@']))\n",
        "\n",
        "#stopword_count (method found at https://www.geeksforgeeks.org/removing-stop-words-nltk-python/)\n",
        "train['stopword_count'] = train['text'].apply(lambda x: len([w for w in str(x).lower().split() if w in stopwords.words('english')]))\n",
        "test['stopword_count'] = test['text'].apply(lambda x: len([w for w in str(x).lower().split() if w in stopwords.words('english')]))\n",
        "\n",
        "# keyword target mean\n",
        "train['keyword_target_mean'] = train.groupby('keyword')['target'].transform('mean')\n",
        "test['keyword_target_mean'] = test['keyword'].apply(lambda x: train.loc[train['keyword'] == x, 'keyword_target_mean'].iloc[0])"
      ],
      "execution_count": null,
      "outputs": []
    },
    {
      "cell_type": "code",
      "metadata": {
        "trusted": true,
        "id": "f4p8X2WidBLK",
        "colab_type": "code",
        "colab": {}
      },
      "source": [
        "train=train.drop(columns='target_mean')"
      ],
      "execution_count": null,
      "outputs": []
    },
    {
      "cell_type": "code",
      "metadata": {
        "trusted": true,
        "id": "EEv0DtvZdBLN",
        "colab_type": "code",
        "colab": {},
        "outputId": "b64f2867-1786-4132-ed04-db15d57b3765"
      },
      "source": [
        "#we will use all additional information in order to improve the result or our model\n",
        "train_add_input = StandardScaler().fit_transform(train.iloc[:, 4:])\n",
        "test_add_input = StandardScaler().fit_transform(test.iloc[:, 3:])\n",
        "\n",
        "ADD_DIM = train_add_input.shape[1]\n",
        "print(ADD_DIM)"
      ],
      "execution_count": null,
      "outputs": [
        {
          "output_type": "stream",
          "text": [
            "10\n"
          ],
          "name": "stdout"
        }
      ]
    },
    {
      "cell_type": "code",
      "metadata": {
        "trusted": true,
        "id": "Ua20HTOKdBLQ",
        "colab_type": "code",
        "colab": {},
        "outputId": "a3b67ad6-2510-4dcd-8bae-bf51c1ab1339"
      },
      "source": [
        "train.sort_values(by='keyword_target_mean', ascending=True).head(10)\n",
        "#test.sort_values(by='keyword_target_mean', ascending=False).head(10)"
      ],
      "execution_count": null,
      "outputs": [
        {
          "output_type": "execute_result",
          "data": {
            "text/plain": [
              "        keyword                  location  \\\n",
              "id                                          \n",
              "178  aftershock             United States   \n",
              "146  aftershock  Instagram - @heyimginog    \n",
              "149  aftershock                       304   \n",
              "151  aftershock               Switzerland   \n",
              "153  aftershock                       304   \n",
              "156  aftershock                        US   \n",
              "158  aftershock  Instagram - @heyimginog    \n",
              "159  aftershock                       304   \n",
              "160  aftershock               no_location   \n",
              "161  aftershock  Somewhere Only We Know ?   \n",
              "\n",
              "                                                  text  target  word_count  \\\n",
              "id                                                                           \n",
              "178  &gt;&gt; $15 Aftershock : Protect Yourself and...       0          16   \n",
              "146  @afterShock_DeLo scuf ps live and the game... cya       0           8   \n",
              "149  'The man who can drive himself further once th...       0          20   \n",
              "151  320 [IR] ICEMOON [AFTERSHOCK] | http://t.co/yN...       0          16   \n",
              "153  'There is no victory at bargain basement price...       0          11   \n",
              "156  320 [IR] ICEMOON [AFTERSHOCK] | http://t.co/vA...       0          16   \n",
              "158  @afterShock_DeLo im speaking from someone that...       0          24   \n",
              "159  'The harder the conflict the more glorious the...       0          11   \n",
              "160  #GrowingUpSpoiled going clay pigeon shooting a...       0          11   \n",
              "161  So i guess no one actually wants any free Afte...       0          11   \n",
              "\n",
              "     char_count  unique_word_count  link_count  mean_word_length  \\\n",
              "id                                                                 \n",
              "178         130                 16           1          7.187500   \n",
              "146          49                  8           0          5.250000   \n",
              "149         110                 17           0          4.500000   \n",
              "151         138                 14           2          7.687500   \n",
              "153          73                 11           0          5.727273   \n",
              "156         138                 14           2          7.687500   \n",
              "158         125                 23           0          4.250000   \n",
              "159          69                  9           0          5.363636   \n",
              "160          83                 11           0          6.636364   \n",
              "161          60                 11           0          4.545455   \n",
              "\n",
              "     punctuation_count  hashtag_count  at_count  stopword_count  \\\n",
              "id                                                                \n",
              "178                 17              2         1               4   \n",
              "146                  5              0         1               2   \n",
              "149                  3              0         0              10   \n",
              "151                 25              6         1               0   \n",
              "153                  3              0         0               3   \n",
              "156                 25              6         1               0   \n",
              "158                  3              0         1              12   \n",
              "159                  3              0         0               4   \n",
              "160                  3              1         0               4   \n",
              "161                  5              0         0               4   \n",
              "\n",
              "     keyword_target_mean  \n",
              "id                        \n",
              "178                  0.0  \n",
              "146                  0.0  \n",
              "149                  0.0  \n",
              "151                  0.0  \n",
              "153                  0.0  \n",
              "156                  0.0  \n",
              "158                  0.0  \n",
              "159                  0.0  \n",
              "160                  0.0  \n",
              "161                  0.0  "
            ],
            "text/html": [
              "<div>\n",
              "<style scoped>\n",
              "    .dataframe tbody tr th:only-of-type {\n",
              "        vertical-align: middle;\n",
              "    }\n",
              "\n",
              "    .dataframe tbody tr th {\n",
              "        vertical-align: top;\n",
              "    }\n",
              "\n",
              "    .dataframe thead th {\n",
              "        text-align: right;\n",
              "    }\n",
              "</style>\n",
              "<table border=\"1\" class=\"dataframe\">\n",
              "  <thead>\n",
              "    <tr style=\"text-align: right;\">\n",
              "      <th></th>\n",
              "      <th>keyword</th>\n",
              "      <th>location</th>\n",
              "      <th>text</th>\n",
              "      <th>target</th>\n",
              "      <th>word_count</th>\n",
              "      <th>char_count</th>\n",
              "      <th>unique_word_count</th>\n",
              "      <th>link_count</th>\n",
              "      <th>mean_word_length</th>\n",
              "      <th>punctuation_count</th>\n",
              "      <th>hashtag_count</th>\n",
              "      <th>at_count</th>\n",
              "      <th>stopword_count</th>\n",
              "      <th>keyword_target_mean</th>\n",
              "    </tr>\n",
              "    <tr>\n",
              "      <th>id</th>\n",
              "      <th></th>\n",
              "      <th></th>\n",
              "      <th></th>\n",
              "      <th></th>\n",
              "      <th></th>\n",
              "      <th></th>\n",
              "      <th></th>\n",
              "      <th></th>\n",
              "      <th></th>\n",
              "      <th></th>\n",
              "      <th></th>\n",
              "      <th></th>\n",
              "      <th></th>\n",
              "      <th></th>\n",
              "    </tr>\n",
              "  </thead>\n",
              "  <tbody>\n",
              "    <tr>\n",
              "      <th>178</th>\n",
              "      <td>aftershock</td>\n",
              "      <td>United States</td>\n",
              "      <td>&amp;gt;&amp;gt; $15 Aftershock : Protect Yourself and...</td>\n",
              "      <td>0</td>\n",
              "      <td>16</td>\n",
              "      <td>130</td>\n",
              "      <td>16</td>\n",
              "      <td>1</td>\n",
              "      <td>7.187500</td>\n",
              "      <td>17</td>\n",
              "      <td>2</td>\n",
              "      <td>1</td>\n",
              "      <td>4</td>\n",
              "      <td>0.0</td>\n",
              "    </tr>\n",
              "    <tr>\n",
              "      <th>146</th>\n",
              "      <td>aftershock</td>\n",
              "      <td>Instagram - @heyimginog</td>\n",
              "      <td>@afterShock_DeLo scuf ps live and the game... cya</td>\n",
              "      <td>0</td>\n",
              "      <td>8</td>\n",
              "      <td>49</td>\n",
              "      <td>8</td>\n",
              "      <td>0</td>\n",
              "      <td>5.250000</td>\n",
              "      <td>5</td>\n",
              "      <td>0</td>\n",
              "      <td>1</td>\n",
              "      <td>2</td>\n",
              "      <td>0.0</td>\n",
              "    </tr>\n",
              "    <tr>\n",
              "      <th>149</th>\n",
              "      <td>aftershock</td>\n",
              "      <td>304</td>\n",
              "      <td>'The man who can drive himself further once th...</td>\n",
              "      <td>0</td>\n",
              "      <td>20</td>\n",
              "      <td>110</td>\n",
              "      <td>17</td>\n",
              "      <td>0</td>\n",
              "      <td>4.500000</td>\n",
              "      <td>3</td>\n",
              "      <td>0</td>\n",
              "      <td>0</td>\n",
              "      <td>10</td>\n",
              "      <td>0.0</td>\n",
              "    </tr>\n",
              "    <tr>\n",
              "      <th>151</th>\n",
              "      <td>aftershock</td>\n",
              "      <td>Switzerland</td>\n",
              "      <td>320 [IR] ICEMOON [AFTERSHOCK] | http://t.co/yN...</td>\n",
              "      <td>0</td>\n",
              "      <td>16</td>\n",
              "      <td>138</td>\n",
              "      <td>14</td>\n",
              "      <td>2</td>\n",
              "      <td>7.687500</td>\n",
              "      <td>25</td>\n",
              "      <td>6</td>\n",
              "      <td>1</td>\n",
              "      <td>0</td>\n",
              "      <td>0.0</td>\n",
              "    </tr>\n",
              "    <tr>\n",
              "      <th>153</th>\n",
              "      <td>aftershock</td>\n",
              "      <td>304</td>\n",
              "      <td>'There is no victory at bargain basement price...</td>\n",
              "      <td>0</td>\n",
              "      <td>11</td>\n",
              "      <td>73</td>\n",
              "      <td>11</td>\n",
              "      <td>0</td>\n",
              "      <td>5.727273</td>\n",
              "      <td>3</td>\n",
              "      <td>0</td>\n",
              "      <td>0</td>\n",
              "      <td>3</td>\n",
              "      <td>0.0</td>\n",
              "    </tr>\n",
              "    <tr>\n",
              "      <th>156</th>\n",
              "      <td>aftershock</td>\n",
              "      <td>US</td>\n",
              "      <td>320 [IR] ICEMOON [AFTERSHOCK] | http://t.co/vA...</td>\n",
              "      <td>0</td>\n",
              "      <td>16</td>\n",
              "      <td>138</td>\n",
              "      <td>14</td>\n",
              "      <td>2</td>\n",
              "      <td>7.687500</td>\n",
              "      <td>25</td>\n",
              "      <td>6</td>\n",
              "      <td>1</td>\n",
              "      <td>0</td>\n",
              "      <td>0.0</td>\n",
              "    </tr>\n",
              "    <tr>\n",
              "      <th>158</th>\n",
              "      <td>aftershock</td>\n",
              "      <td>Instagram - @heyimginog</td>\n",
              "      <td>@afterShock_DeLo im speaking from someone that...</td>\n",
              "      <td>0</td>\n",
              "      <td>24</td>\n",
              "      <td>125</td>\n",
              "      <td>23</td>\n",
              "      <td>0</td>\n",
              "      <td>4.250000</td>\n",
              "      <td>3</td>\n",
              "      <td>0</td>\n",
              "      <td>1</td>\n",
              "      <td>12</td>\n",
              "      <td>0.0</td>\n",
              "    </tr>\n",
              "    <tr>\n",
              "      <th>159</th>\n",
              "      <td>aftershock</td>\n",
              "      <td>304</td>\n",
              "      <td>'The harder the conflict the more glorious the...</td>\n",
              "      <td>0</td>\n",
              "      <td>11</td>\n",
              "      <td>69</td>\n",
              "      <td>9</td>\n",
              "      <td>0</td>\n",
              "      <td>5.363636</td>\n",
              "      <td>3</td>\n",
              "      <td>0</td>\n",
              "      <td>0</td>\n",
              "      <td>4</td>\n",
              "      <td>0.0</td>\n",
              "    </tr>\n",
              "    <tr>\n",
              "      <th>160</th>\n",
              "      <td>aftershock</td>\n",
              "      <td>no_location</td>\n",
              "      <td>#GrowingUpSpoiled going clay pigeon shooting a...</td>\n",
              "      <td>0</td>\n",
              "      <td>11</td>\n",
              "      <td>83</td>\n",
              "      <td>11</td>\n",
              "      <td>0</td>\n",
              "      <td>6.636364</td>\n",
              "      <td>3</td>\n",
              "      <td>1</td>\n",
              "      <td>0</td>\n",
              "      <td>4</td>\n",
              "      <td>0.0</td>\n",
              "    </tr>\n",
              "    <tr>\n",
              "      <th>161</th>\n",
              "      <td>aftershock</td>\n",
              "      <td>Somewhere Only We Know ?</td>\n",
              "      <td>So i guess no one actually wants any free Afte...</td>\n",
              "      <td>0</td>\n",
              "      <td>11</td>\n",
              "      <td>60</td>\n",
              "      <td>11</td>\n",
              "      <td>0</td>\n",
              "      <td>4.545455</td>\n",
              "      <td>5</td>\n",
              "      <td>0</td>\n",
              "      <td>0</td>\n",
              "      <td>4</td>\n",
              "      <td>0.0</td>\n",
              "    </tr>\n",
              "  </tbody>\n",
              "</table>\n",
              "</div>"
            ]
          },
          "metadata": {
            "tags": []
          },
          "execution_count": 25
        }
      ]
    },
    {
      "cell_type": "code",
      "metadata": {
        "id": "MXl8gB1yBjsD",
        "trusted": true,
        "colab_type": "code",
        "colab": {},
        "outputId": "54d0755d-a70c-47e4-af2b-f13b343d4959"
      },
      "source": [
        "#With the additional information, the correlation of the values with regard to the classification is examined more closely\n",
        "train.corr()['target'].sort_values().drop('target')"
      ],
      "execution_count": null,
      "outputs": [
        {
          "output_type": "execute_result",
          "data": {
            "text/plain": [
              "at_count              -0.102412\n",
              "stopword_count        -0.097858\n",
              "word_count             0.040815\n",
              "unique_word_count      0.054301\n",
              "hashtag_count          0.059976\n",
              "punctuation_count      0.133970\n",
              "mean_word_length       0.175888\n",
              "char_count             0.181686\n",
              "link_count             0.202532\n",
              "keyword_target_mean    0.545172\n",
              "Name: target, dtype: float64"
            ]
          },
          "metadata": {
            "tags": []
          },
          "execution_count": 26
        }
      ]
    },
    {
      "cell_type": "markdown",
      "metadata": {
        "id": "Od3nm50S3hYc",
        "colab_type": "text"
      },
      "source": [
        "Check out if all columns are added correctly"
      ]
    },
    {
      "cell_type": "code",
      "metadata": {
        "id": "tb9Dh1o92p9o",
        "trusted": true,
        "colab_type": "code",
        "colab": {},
        "outputId": "90fe5a68-b238-443e-a7fc-66d11c3559e3"
      },
      "source": [
        "train.head()"
      ],
      "execution_count": null,
      "outputs": [
        {
          "output_type": "execute_result",
          "data": {
            "text/plain": [
              "       keyword     location  \\\n",
              "id                            \n",
              "1   no_keyword  no_location   \n",
              "4   no_keyword  no_location   \n",
              "5   no_keyword  no_location   \n",
              "6   no_keyword  no_location   \n",
              "7   no_keyword  no_location   \n",
              "\n",
              "                                                 text  target  word_count  \\\n",
              "id                                                                          \n",
              "1   Our Deeds are the Reason of this #earthquake M...       1          13   \n",
              "4              Forest fire near La Ronge Sask. Canada       1           7   \n",
              "5   All residents asked to 'shelter in place' are ...       1          22   \n",
              "6   13,000 people receive #wildfires evacuation or...       1           8   \n",
              "7   Just got sent this photo from Ruby #Alaska as ...       1          16   \n",
              "\n",
              "    char_count  unique_word_count  link_count  mean_word_length  \\\n",
              "id                                                                \n",
              "1           69                 13           0          4.384615   \n",
              "4           38                  7           0          4.571429   \n",
              "5          133                 20           0          5.090909   \n",
              "6           65                  8           0          7.125000   \n",
              "7           88                 15           0          4.500000   \n",
              "\n",
              "    punctuation_count  hashtag_count  at_count  stopword_count  \\\n",
              "id                                                               \n",
              "1                   1              1         0               6   \n",
              "4                   1              0         0               0   \n",
              "5                   3              0         0              11   \n",
              "6                   2              1         0               1   \n",
              "7                   2              2         0               7   \n",
              "\n",
              "    keyword_target_mean  \n",
              "id                       \n",
              "1              0.660714  \n",
              "4              0.660714  \n",
              "5              0.660714  \n",
              "6              0.660714  \n",
              "7              0.660714  "
            ],
            "text/html": [
              "<div>\n",
              "<style scoped>\n",
              "    .dataframe tbody tr th:only-of-type {\n",
              "        vertical-align: middle;\n",
              "    }\n",
              "\n",
              "    .dataframe tbody tr th {\n",
              "        vertical-align: top;\n",
              "    }\n",
              "\n",
              "    .dataframe thead th {\n",
              "        text-align: right;\n",
              "    }\n",
              "</style>\n",
              "<table border=\"1\" class=\"dataframe\">\n",
              "  <thead>\n",
              "    <tr style=\"text-align: right;\">\n",
              "      <th></th>\n",
              "      <th>keyword</th>\n",
              "      <th>location</th>\n",
              "      <th>text</th>\n",
              "      <th>target</th>\n",
              "      <th>word_count</th>\n",
              "      <th>char_count</th>\n",
              "      <th>unique_word_count</th>\n",
              "      <th>link_count</th>\n",
              "      <th>mean_word_length</th>\n",
              "      <th>punctuation_count</th>\n",
              "      <th>hashtag_count</th>\n",
              "      <th>at_count</th>\n",
              "      <th>stopword_count</th>\n",
              "      <th>keyword_target_mean</th>\n",
              "    </tr>\n",
              "    <tr>\n",
              "      <th>id</th>\n",
              "      <th></th>\n",
              "      <th></th>\n",
              "      <th></th>\n",
              "      <th></th>\n",
              "      <th></th>\n",
              "      <th></th>\n",
              "      <th></th>\n",
              "      <th></th>\n",
              "      <th></th>\n",
              "      <th></th>\n",
              "      <th></th>\n",
              "      <th></th>\n",
              "      <th></th>\n",
              "      <th></th>\n",
              "    </tr>\n",
              "  </thead>\n",
              "  <tbody>\n",
              "    <tr>\n",
              "      <th>1</th>\n",
              "      <td>no_keyword</td>\n",
              "      <td>no_location</td>\n",
              "      <td>Our Deeds are the Reason of this #earthquake M...</td>\n",
              "      <td>1</td>\n",
              "      <td>13</td>\n",
              "      <td>69</td>\n",
              "      <td>13</td>\n",
              "      <td>0</td>\n",
              "      <td>4.384615</td>\n",
              "      <td>1</td>\n",
              "      <td>1</td>\n",
              "      <td>0</td>\n",
              "      <td>6</td>\n",
              "      <td>0.660714</td>\n",
              "    </tr>\n",
              "    <tr>\n",
              "      <th>4</th>\n",
              "      <td>no_keyword</td>\n",
              "      <td>no_location</td>\n",
              "      <td>Forest fire near La Ronge Sask. Canada</td>\n",
              "      <td>1</td>\n",
              "      <td>7</td>\n",
              "      <td>38</td>\n",
              "      <td>7</td>\n",
              "      <td>0</td>\n",
              "      <td>4.571429</td>\n",
              "      <td>1</td>\n",
              "      <td>0</td>\n",
              "      <td>0</td>\n",
              "      <td>0</td>\n",
              "      <td>0.660714</td>\n",
              "    </tr>\n",
              "    <tr>\n",
              "      <th>5</th>\n",
              "      <td>no_keyword</td>\n",
              "      <td>no_location</td>\n",
              "      <td>All residents asked to 'shelter in place' are ...</td>\n",
              "      <td>1</td>\n",
              "      <td>22</td>\n",
              "      <td>133</td>\n",
              "      <td>20</td>\n",
              "      <td>0</td>\n",
              "      <td>5.090909</td>\n",
              "      <td>3</td>\n",
              "      <td>0</td>\n",
              "      <td>0</td>\n",
              "      <td>11</td>\n",
              "      <td>0.660714</td>\n",
              "    </tr>\n",
              "    <tr>\n",
              "      <th>6</th>\n",
              "      <td>no_keyword</td>\n",
              "      <td>no_location</td>\n",
              "      <td>13,000 people receive #wildfires evacuation or...</td>\n",
              "      <td>1</td>\n",
              "      <td>8</td>\n",
              "      <td>65</td>\n",
              "      <td>8</td>\n",
              "      <td>0</td>\n",
              "      <td>7.125000</td>\n",
              "      <td>2</td>\n",
              "      <td>1</td>\n",
              "      <td>0</td>\n",
              "      <td>1</td>\n",
              "      <td>0.660714</td>\n",
              "    </tr>\n",
              "    <tr>\n",
              "      <th>7</th>\n",
              "      <td>no_keyword</td>\n",
              "      <td>no_location</td>\n",
              "      <td>Just got sent this photo from Ruby #Alaska as ...</td>\n",
              "      <td>1</td>\n",
              "      <td>16</td>\n",
              "      <td>88</td>\n",
              "      <td>15</td>\n",
              "      <td>0</td>\n",
              "      <td>4.500000</td>\n",
              "      <td>2</td>\n",
              "      <td>2</td>\n",
              "      <td>0</td>\n",
              "      <td>7</td>\n",
              "      <td>0.660714</td>\n",
              "    </tr>\n",
              "  </tbody>\n",
              "</table>\n",
              "</div>"
            ]
          },
          "metadata": {
            "tags": []
          },
          "execution_count": 27
        }
      ]
    },
    {
      "cell_type": "code",
      "metadata": {
        "id": "HaEWkAm9MIBM",
        "trusted": true,
        "colab_type": "code",
        "colab": {},
        "outputId": "183679e8-1c71-487a-b178-9fa6f4a3fb89"
      },
      "source": [
        "test.head()"
      ],
      "execution_count": null,
      "outputs": [
        {
          "output_type": "execute_result",
          "data": {
            "text/plain": [
              "       keyword     location  \\\n",
              "id                            \n",
              "0   no_keyword  no_location   \n",
              "2   no_keyword  no_location   \n",
              "3   no_keyword  no_location   \n",
              "9   no_keyword  no_location   \n",
              "11  no_keyword  no_location   \n",
              "\n",
              "                                                 text  word_count  char_count  \\\n",
              "id                                                                              \n",
              "0                  Just happened a terrible car crash           6          34   \n",
              "2   Heard about #earthquake is different cities, s...           9          64   \n",
              "3   there is a forest fire at spot pond, geese are...          19          96   \n",
              "9            Apocalypse lighting. #Spokane #wildfires           4          40   \n",
              "11      Typhoon Soudelor kills 28 in China and Taiwan           8          45   \n",
              "\n",
              "    unique_word_count  link_count  mean_word_length  punctuation_count  \\\n",
              "id                                                                       \n",
              "0                   6           0          4.833333                  0   \n",
              "2                   9           0          6.222222                  3   \n",
              "3                  19           0          4.105263                  2   \n",
              "9                   4           0          9.250000                  3   \n",
              "11                  8           0          4.750000                  0   \n",
              "\n",
              "    hashtag_count  at_count  stopword_count  keyword_target_mean  \n",
              "id                                                                \n",
              "0               0         0               2             0.660714  \n",
              "2               1         0               2             0.660714  \n",
              "3               0         0               9             0.660714  \n",
              "9               2         0               0             0.660714  \n",
              "11              0         0               2             0.660714  "
            ],
            "text/html": [
              "<div>\n",
              "<style scoped>\n",
              "    .dataframe tbody tr th:only-of-type {\n",
              "        vertical-align: middle;\n",
              "    }\n",
              "\n",
              "    .dataframe tbody tr th {\n",
              "        vertical-align: top;\n",
              "    }\n",
              "\n",
              "    .dataframe thead th {\n",
              "        text-align: right;\n",
              "    }\n",
              "</style>\n",
              "<table border=\"1\" class=\"dataframe\">\n",
              "  <thead>\n",
              "    <tr style=\"text-align: right;\">\n",
              "      <th></th>\n",
              "      <th>keyword</th>\n",
              "      <th>location</th>\n",
              "      <th>text</th>\n",
              "      <th>word_count</th>\n",
              "      <th>char_count</th>\n",
              "      <th>unique_word_count</th>\n",
              "      <th>link_count</th>\n",
              "      <th>mean_word_length</th>\n",
              "      <th>punctuation_count</th>\n",
              "      <th>hashtag_count</th>\n",
              "      <th>at_count</th>\n",
              "      <th>stopword_count</th>\n",
              "      <th>keyword_target_mean</th>\n",
              "    </tr>\n",
              "    <tr>\n",
              "      <th>id</th>\n",
              "      <th></th>\n",
              "      <th></th>\n",
              "      <th></th>\n",
              "      <th></th>\n",
              "      <th></th>\n",
              "      <th></th>\n",
              "      <th></th>\n",
              "      <th></th>\n",
              "      <th></th>\n",
              "      <th></th>\n",
              "      <th></th>\n",
              "      <th></th>\n",
              "      <th></th>\n",
              "    </tr>\n",
              "  </thead>\n",
              "  <tbody>\n",
              "    <tr>\n",
              "      <th>0</th>\n",
              "      <td>no_keyword</td>\n",
              "      <td>no_location</td>\n",
              "      <td>Just happened a terrible car crash</td>\n",
              "      <td>6</td>\n",
              "      <td>34</td>\n",
              "      <td>6</td>\n",
              "      <td>0</td>\n",
              "      <td>4.833333</td>\n",
              "      <td>0</td>\n",
              "      <td>0</td>\n",
              "      <td>0</td>\n",
              "      <td>2</td>\n",
              "      <td>0.660714</td>\n",
              "    </tr>\n",
              "    <tr>\n",
              "      <th>2</th>\n",
              "      <td>no_keyword</td>\n",
              "      <td>no_location</td>\n",
              "      <td>Heard about #earthquake is different cities, s...</td>\n",
              "      <td>9</td>\n",
              "      <td>64</td>\n",
              "      <td>9</td>\n",
              "      <td>0</td>\n",
              "      <td>6.222222</td>\n",
              "      <td>3</td>\n",
              "      <td>1</td>\n",
              "      <td>0</td>\n",
              "      <td>2</td>\n",
              "      <td>0.660714</td>\n",
              "    </tr>\n",
              "    <tr>\n",
              "      <th>3</th>\n",
              "      <td>no_keyword</td>\n",
              "      <td>no_location</td>\n",
              "      <td>there is a forest fire at spot pond, geese are...</td>\n",
              "      <td>19</td>\n",
              "      <td>96</td>\n",
              "      <td>19</td>\n",
              "      <td>0</td>\n",
              "      <td>4.105263</td>\n",
              "      <td>2</td>\n",
              "      <td>0</td>\n",
              "      <td>0</td>\n",
              "      <td>9</td>\n",
              "      <td>0.660714</td>\n",
              "    </tr>\n",
              "    <tr>\n",
              "      <th>9</th>\n",
              "      <td>no_keyword</td>\n",
              "      <td>no_location</td>\n",
              "      <td>Apocalypse lighting. #Spokane #wildfires</td>\n",
              "      <td>4</td>\n",
              "      <td>40</td>\n",
              "      <td>4</td>\n",
              "      <td>0</td>\n",
              "      <td>9.250000</td>\n",
              "      <td>3</td>\n",
              "      <td>2</td>\n",
              "      <td>0</td>\n",
              "      <td>0</td>\n",
              "      <td>0.660714</td>\n",
              "    </tr>\n",
              "    <tr>\n",
              "      <th>11</th>\n",
              "      <td>no_keyword</td>\n",
              "      <td>no_location</td>\n",
              "      <td>Typhoon Soudelor kills 28 in China and Taiwan</td>\n",
              "      <td>8</td>\n",
              "      <td>45</td>\n",
              "      <td>8</td>\n",
              "      <td>0</td>\n",
              "      <td>4.750000</td>\n",
              "      <td>0</td>\n",
              "      <td>0</td>\n",
              "      <td>0</td>\n",
              "      <td>2</td>\n",
              "      <td>0.660714</td>\n",
              "    </tr>\n",
              "  </tbody>\n",
              "</table>\n",
              "</div>"
            ]
          },
          "metadata": {
            "tags": []
          },
          "execution_count": 28
        }
      ]
    },
    {
      "cell_type": "markdown",
      "metadata": {
        "id": "-TG_1BTY3qL3",
        "colab_type": "text"
      },
      "source": [
        "Now take a closer look at the impact of word_count, char_count, unique_word_count, \n",
        "link_count, mean_word_length, punctuation_count, hashtag_count and @_count on the target"
      ]
    },
    {
      "cell_type": "code",
      "metadata": {
        "id": "3xJsIRbe2vwp",
        "trusted": true,
        "colab_type": "code",
        "colab": {},
        "outputId": "5f0de503-4616-4dc9-fa10-5d7d3f94354b"
      },
      "source": [
        "fig,(ax1,ax2)=plt.subplots(1,2,figsize=(7,5))\n",
        "tweet_len=train[train['target']==1]['word_count']\n",
        "ax1.hist(tweet_len,color='red')\n",
        "ax1.set_title('disaster tweets')\n",
        "tweet_len=train[train['target']==0]['word_count']\n",
        "ax2.hist(tweet_len,color='grey')\n",
        "ax2.set_title('Not disaster tweets')\n",
        "fig.suptitle('Words in tweets')\n",
        "\n",
        "fig,(ax3,ax4)=plt.subplots(1,2,figsize=(7,5))\n",
        "tweet_len=train[train['target']==1]['char_count']\n",
        "ax3.hist(tweet_len,color='red')\n",
        "ax3.set_title('disaster tweets')\n",
        "tweet_len=train[train['target']==0]['char_count']\n",
        "ax4.hist(tweet_len,color='grey')\n",
        "ax4.set_title('Not disaster tweets')\n",
        "fig.suptitle('Characters in tweets')\n",
        "\n",
        "fig,(ax5,ax6)=plt.subplots(1,2,figsize=(7,5))\n",
        "tweet_len=train[train['target']==1]['mean_word_length']\n",
        "ax5.hist(tweet_len,color='red')\n",
        "ax5.set_title('disaster tweets')\n",
        "tweet_len=train[train['target']==0]['mean_word_length']\n",
        "ax6.hist(tweet_len,color='grey')\n",
        "ax6.set_title('Not disaster tweets')\n",
        "fig.suptitle('Word length in tweets')\n",
        "\n",
        "fig,(ax7,ax8)=plt.subplots(1,2,figsize=(7,5))\n",
        "tweet_len=train[train['target']==1]['link_count']\n",
        "ax7.hist(tweet_len,color='red')\n",
        "ax7.set_title('disaster tweets')\n",
        "tweet_len=train[train['target']==0]['link_count']\n",
        "ax8.hist(tweet_len,color='grey')\n",
        "ax8.set_title('Not disaster tweets')\n",
        "fig.suptitle('Links in tweets')\n",
        "\n",
        "fig,(ax9,ax10)=plt.subplots(1,2,figsize=(7,5))\n",
        "tweet_len=train[train['target']==1]['punctuation_count']\n",
        "ax9.hist(tweet_len,color='red')\n",
        "ax9.set_title('disaster tweets')\n",
        "tweet_len=train[train['target']==0]['punctuation_count']\n",
        "ax10.hist(tweet_len,color='grey')\n",
        "ax10.set_title('Not disaster tweets')\n",
        "fig.suptitle('Punctuations in tweets')\n",
        "\n",
        "fig,(ax11,ax12)=plt.subplots(1,2,figsize=(7,5))\n",
        "tweet_len=train[train['target']==1]['hashtag_count']\n",
        "ax11.hist(tweet_len,color='red')\n",
        "ax11.set_title('disaster tweets')\n",
        "tweet_len=train[train['target']==0]['hashtag_count']\n",
        "ax12.hist(tweet_len,color='grey')\n",
        "ax12.set_title('Not disaster tweets')\n",
        "fig.suptitle('# in tweets')\n",
        "\n",
        "fig,(ax13,ax14)=plt.subplots(1,2,figsize=(7,5))\n",
        "tweet_len=train[train['target']==1]['at_count']\n",
        "ax13.hist(tweet_len,color='red')\n",
        "ax13.set_title('disaster tweets')\n",
        "tweet_len=train[train['target']==0]['at_count']\n",
        "ax14.hist(tweet_len,color='grey')\n",
        "ax14.set_title('Not disaster tweets')\n",
        "fig.suptitle('@ in tweets')\n",
        "\n",
        "fig,(ax15,ax16)=plt.subplots(1,2,figsize=(7,5))\n",
        "tweet_len=train[train['target']==1]['stopword_count']\n",
        "ax15.hist(tweet_len,color='red')\n",
        "ax15.set_title('disaster tweets')\n",
        "tweet_len=train[train['target']==0]['stopword_count']\n",
        "ax16.hist(tweet_len,color='grey')\n",
        "ax16.set_title('Not disaster tweets')\n",
        "fig.suptitle('stopwords in tweets')\n",
        "\n",
        "plt.show()"
      ],
      "execution_count": null,
      "outputs": [
        {
          "output_type": "display_data",
          "data": {
            "text/plain": [
              "<Figure size 504x360 with 2 Axes>"
            ],
            "image/png": "[encoded data removed]"
          },
          "metadata": {
            "tags": [],
            "needs_background": "light"
          }
        },
        {
          "output_type": "display_data",
          "data": {
            "text/plain": [
              "<Figure size 504x360 with 2 Axes>"
            ],
            "image/png": "[encoded data removed]"
          },
          "metadata": {
            "tags": [],
            "needs_background": "light"
          }
        },
        {
          "output_type": "display_data",
          "data": {
            "text/plain": [
              "<Figure size 504x360 with 2 Axes>"
            ],
            "image/png": "[encoded data removed]"
          },
          "metadata": {
            "tags": [],
            "needs_background": "light"
          }
        },
        {
          "output_type": "display_data",
          "data": {
            "text/plain": [
              "<Figure size 504x360 with 2 Axes>"
            ],
            "image/png": "[encoded data removed]"
          },
          "metadata": {
            "tags": [],
            "needs_background": "light"
          }
        },
        {
          "output_type": "display_data",
          "data": {
            "text/plain": [
              "<Figure size 504x360 with 2 Axes>"
            ],
            "image/png": "[encoded data removed]"
          },
          "metadata": {
            "tags": [],
            "needs_background": "light"
          }
        },
        {
          "output_type": "display_data",
          "data": {
            "text/plain": [
              "<Figure size 504x360 with 2 Axes>"
            ],
            "image/png": "[encoded data removed]"
          },
          "metadata": {
            "tags": [],
            "needs_background": "light"
          }
        },
        {
          "output_type": "display_data",
          "data": {
            "text/plain": [
              "<Figure size 504x360 with 2 Axes>"
            ],
            "image/png": "[encoded data removed]"
          },
          "metadata": {
            "tags": [],
            "needs_background": "light"
          }
        },
        {
          "output_type": "display_data",
          "data": {
            "text/plain": [
              "<Figure size 504x360 with 2 Axes>"
            ],
            "image/png": "[encoded data removed]"
          },
          "metadata": {
            "tags": [],
            "needs_background": "light"
          }
        }
      ]
    },
    {
      "cell_type": "markdown",
      "metadata": {
        "id": "zJoQaNWY3ZJW",
        "colab_type": "text"
      },
      "source": [
        "**Interpretation** <br>\n",
        "Due to the fact that not disaster Tweets tend to be a bit longer, it is not surprising that stop words are used more often. However, the number of characters does not differ significantly, only very long tweets of 150 characters are increasingly classified as disaster. \n",
        "Regarding the use of links, disaster tweets show 1-2 links more often, the use of @ differs less. disaster tweets show a higher use of punctuations, but outliners are rather not disasters. \n",
        "\n",
        "\n"
      ]
    },
    {
      "cell_type": "markdown",
      "metadata": {
        "id": "1SchBfMW-gGS",
        "colab_type": "text"
      },
      "source": [
        "## **Cleaning** <br>\n",
        "**Preparation for the models:** <br>\n",
        "Punctuation marks, links and stop words are not considered for the following models. These would possibly falsify the model, but have little effect on the content and are therefore of little relevance for the classification. "
      ]
    },
    {
      "cell_type": "code",
      "metadata": {
        "trusted": true,
        "id": "IftV4t8adBLg",
        "colab_type": "code",
        "colab": {},
        "outputId": "4e50f1b7-3f2d-4cda-eaa2-a7fcfc377b53"
      },
      "source": [
        "train.head(2)"
      ],
      "execution_count": null,
      "outputs": [
        {
          "output_type": "execute_result",
          "data": {
            "text/plain": [
              "       keyword     location  \\\n",
              "id                            \n",
              "1   no_keyword  no_location   \n",
              "4   no_keyword  no_location   \n",
              "\n",
              "                                                 text  target  word_count  \\\n",
              "id                                                                          \n",
              "1   Our Deeds are the Reason of this #earthquake M...       1          13   \n",
              "4              Forest fire near La Ronge Sask. Canada       1           7   \n",
              "\n",
              "    char_count  unique_word_count  link_count  mean_word_length  \\\n",
              "id                                                                \n",
              "1           69                 13           0          4.384615   \n",
              "4           38                  7           0          4.571429   \n",
              "\n",
              "    punctuation_count  hashtag_count  at_count  stopword_count  \\\n",
              "id                                                               \n",
              "1                   1              1         0               6   \n",
              "4                   1              0         0               0   \n",
              "\n",
              "    keyword_target_mean  \n",
              "id                       \n",
              "1              0.660714  \n",
              "4              0.660714  "
            ],
            "text/html": [
              "<div>\n",
              "<style scoped>\n",
              "    .dataframe tbody tr th:only-of-type {\n",
              "        vertical-align: middle;\n",
              "    }\n",
              "\n",
              "    .dataframe tbody tr th {\n",
              "        vertical-align: top;\n",
              "    }\n",
              "\n",
              "    .dataframe thead th {\n",
              "        text-align: right;\n",
              "    }\n",
              "</style>\n",
              "<table border=\"1\" class=\"dataframe\">\n",
              "  <thead>\n",
              "    <tr style=\"text-align: right;\">\n",
              "      <th></th>\n",
              "      <th>keyword</th>\n",
              "      <th>location</th>\n",
              "      <th>text</th>\n",
              "      <th>target</th>\n",
              "      <th>word_count</th>\n",
              "      <th>char_count</th>\n",
              "      <th>unique_word_count</th>\n",
              "      <th>link_count</th>\n",
              "      <th>mean_word_length</th>\n",
              "      <th>punctuation_count</th>\n",
              "      <th>hashtag_count</th>\n",
              "      <th>at_count</th>\n",
              "      <th>stopword_count</th>\n",
              "      <th>keyword_target_mean</th>\n",
              "    </tr>\n",
              "    <tr>\n",
              "      <th>id</th>\n",
              "      <th></th>\n",
              "      <th></th>\n",
              "      <th></th>\n",
              "      <th></th>\n",
              "      <th></th>\n",
              "      <th></th>\n",
              "      <th></th>\n",
              "      <th></th>\n",
              "      <th></th>\n",
              "      <th></th>\n",
              "      <th></th>\n",
              "      <th></th>\n",
              "      <th></th>\n",
              "      <th></th>\n",
              "    </tr>\n",
              "  </thead>\n",
              "  <tbody>\n",
              "    <tr>\n",
              "      <th>1</th>\n",
              "      <td>no_keyword</td>\n",
              "      <td>no_location</td>\n",
              "      <td>Our Deeds are the Reason of this #earthquake M...</td>\n",
              "      <td>1</td>\n",
              "      <td>13</td>\n",
              "      <td>69</td>\n",
              "      <td>13</td>\n",
              "      <td>0</td>\n",
              "      <td>4.384615</td>\n",
              "      <td>1</td>\n",
              "      <td>1</td>\n",
              "      <td>0</td>\n",
              "      <td>6</td>\n",
              "      <td>0.660714</td>\n",
              "    </tr>\n",
              "    <tr>\n",
              "      <th>4</th>\n",
              "      <td>no_keyword</td>\n",
              "      <td>no_location</td>\n",
              "      <td>Forest fire near La Ronge Sask. Canada</td>\n",
              "      <td>1</td>\n",
              "      <td>7</td>\n",
              "      <td>38</td>\n",
              "      <td>7</td>\n",
              "      <td>0</td>\n",
              "      <td>4.571429</td>\n",
              "      <td>1</td>\n",
              "      <td>0</td>\n",
              "      <td>0</td>\n",
              "      <td>0</td>\n",
              "      <td>0.660714</td>\n",
              "    </tr>\n",
              "  </tbody>\n",
              "</table>\n",
              "</div>"
            ]
          },
          "metadata": {
            "tags": []
          },
          "execution_count": 30
        }
      ]
    },
    {
      "cell_type": "code",
      "metadata": {
        "id": "PuDiy4j__U8e",
        "trusted": true,
        "colab_type": "code",
        "colab": {},
        "outputId": "4e7fe7c3-93a0-4e8b-b657-24883c9ff72a"
      },
      "source": [
        "def StopWordCleanser(word):\n",
        "    if word in stopwords.words('english'):\n",
        "        return \"\"\n",
        "    else:\n",
        "        return word\n",
        "\n",
        "def clean_data(x):\n",
        "  x = re.sub('https?://\\S+|www\\.\\S+', '', x)\n",
        "  x = re.sub(\"'\", \" \", x)\n",
        "  x = re.sub(r\"&gt;\", \"\", x)\n",
        "  x = re.sub(r\"&lt;\", \"\", x)\n",
        "  x = re.sub(r\"&amp;\", \"\", x)\n",
        "  x = re.sub(r\"\\n\", \" \", x)\n",
        "  x = re.sub(r\"\\x89ûò\", \"\", x)\n",
        "  x = re.sub(r\"\\x89ûò\", \"\", x)\n",
        "  x = re.sub(r\"\\x89ûª\", \"\", x)\n",
        "  x = re.sub(r\"åê\", \"\", x)\n",
        "  x = re.sub(r\"\\x89ûï\", \"\", x)\n",
        "  x = re.sub(r\"\\x89ûò\", \"\", x)\n",
        "  x = re.sub(r\"\\x89ûª\", \"\", x)\n",
        "  x = re.sub(r\"\\x89ûò\", \"\", x)\n",
        "  x = re.sub(r\"\\x89ûª\", \"\", x)\n",
        "  x = re.sub(r\"\\x89û\", \"\", x)\n",
        "  x = re.sub(r\"\\x9d\", \"\", x)\n",
        "  x = re.sub('\\w*\\d\\w*', '', x)\n",
        "  x = re.sub('ì©', 'é', x)\n",
        "  x = re.sub(\"[@.!?\\\\-*#+_:,;=><'§$%&/°^`´{}>|~()]\", \"\",x)\n",
        "  return x\n",
        "\n",
        "#remove stopswords\n",
        "train['text'] = train['text'].apply(lambda x: \" \".join([StopWordCleanser(i) for i in str(x).split()]))\n",
        "test['text'] = test['text'].apply(lambda x: \" \".join([StopWordCleanser(i) for i in str(x).split()]))\n",
        "\n",
        "#remove URLs\n",
        "train['text'] = train['text'].apply(lambda x: re.sub(r'\\w+:\\/{2}[\\d\\w-]+(\\.[\\d\\w-]+)*(?:(?:\\/[^\\s/]*))*', '', str(x)))\n",
        "train['text'] = train['text'].apply(lambda x: re.sub(r'http?:\\/\\/t.co\\/[A-Za-z0-9]+', '', str(x)))\n",
        "test['text'] = test['text'].apply(lambda x: re.sub(r'\\w+:\\/{2}[\\d\\w-]+(\\.[\\d\\w-]+)*(?:(?:\\/[^\\s/]*))*', '', str(x)))\n",
        "test['text'] = test['text'].apply(lambda x: re.sub(r'http?:\\/\\/t.co\\/[A-Za-z0-9]+', '', str(x)))\n",
        "\n",
        "#remove #\n",
        "train['text'] = train['text'].apply(lambda x: re.sub(r'#', '', str(x)))\n",
        "test['text'] = test['text'].apply(lambda x: re.sub(r'#', '', str(x)))\n",
        "\n",
        "#remove punctuation\n",
        "train['text'] = train['text'].apply(lambda x: str(x).translate(str.maketrans('','',string.punctuation)))\n",
        "test['text'] = test['text'].apply(lambda x: str(x).translate(str.maketrans('','',string.punctuation)))\n",
        "\n",
        "#convert all the words into lower case\n",
        "train['text'] = train['text'].str.lower()\n",
        "test['text'] = test['text'].str.lower()\n",
        "\n",
        "#clean data\n",
        "train['text']=train['text'].apply(lambda x: clean_data(x))\n",
        "test['text']=test['text'].apply(lambda x: clean_data(x))\n",
        "\n",
        "train.head(5) #check if all removements worked\n"
      ],
      "execution_count": null,
      "outputs": [
        {
          "output_type": "execute_result",
          "data": {
            "text/plain": [
              "       keyword     location  \\\n",
              "id                            \n",
              "1   no_keyword  no_location   \n",
              "4   no_keyword  no_location   \n",
              "5   no_keyword  no_location   \n",
              "6   no_keyword  no_location   \n",
              "7   no_keyword  no_location   \n",
              "\n",
              "                                                 text  target  word_count  \\\n",
              "id                                                                          \n",
              "1   our deeds are the reason of this earthquake ma...       1          13   \n",
              "4               forest fire near la ronge sask canada       1           7   \n",
              "5   all residents asked to shelter in place are be...       1          22   \n",
              "6    people receive wildfires evacuation orders in...       1           8   \n",
              "7   just got sent this photo from ruby alaska as s...       1          16   \n",
              "\n",
              "    char_count  unique_word_count  link_count  mean_word_length  \\\n",
              "id                                                                \n",
              "1           69                 13           0          4.384615   \n",
              "4           38                  7           0          4.571429   \n",
              "5          133                 20           0          5.090909   \n",
              "6           65                  8           0          7.125000   \n",
              "7           88                 15           0          4.500000   \n",
              "\n",
              "    punctuation_count  hashtag_count  at_count  stopword_count  \\\n",
              "id                                                               \n",
              "1                   1              1         0               6   \n",
              "4                   1              0         0               0   \n",
              "5                   3              0         0              11   \n",
              "6                   2              1         0               1   \n",
              "7                   2              2         0               7   \n",
              "\n",
              "    keyword_target_mean  \n",
              "id                       \n",
              "1              0.660714  \n",
              "4              0.660714  \n",
              "5              0.660714  \n",
              "6              0.660714  \n",
              "7              0.660714  "
            ],
            "text/html": [
              "<div>\n",
              "<style scoped>\n",
              "    .dataframe tbody tr th:only-of-type {\n",
              "        vertical-align: middle;\n",
              "    }\n",
              "\n",
              "    .dataframe tbody tr th {\n",
              "        vertical-align: top;\n",
              "    }\n",
              "\n",
              "    .dataframe thead th {\n",
              "        text-align: right;\n",
              "    }\n",
              "</style>\n",
              "<table border=\"1\" class=\"dataframe\">\n",
              "  <thead>\n",
              "    <tr style=\"text-align: right;\">\n",
              "      <th></th>\n",
              "      <th>keyword</th>\n",
              "      <th>location</th>\n",
              "      <th>text</th>\n",
              "      <th>target</th>\n",
              "      <th>word_count</th>\n",
              "      <th>char_count</th>\n",
              "      <th>unique_word_count</th>\n",
              "      <th>link_count</th>\n",
              "      <th>mean_word_length</th>\n",
              "      <th>punctuation_count</th>\n",
              "      <th>hashtag_count</th>\n",
              "      <th>at_count</th>\n",
              "      <th>stopword_count</th>\n",
              "      <th>keyword_target_mean</th>\n",
              "    </tr>\n",
              "    <tr>\n",
              "      <th>id</th>\n",
              "      <th></th>\n",
              "      <th></th>\n",
              "      <th></th>\n",
              "      <th></th>\n",
              "      <th></th>\n",
              "      <th></th>\n",
              "      <th></th>\n",
              "      <th></th>\n",
              "      <th></th>\n",
              "      <th></th>\n",
              "      <th></th>\n",
              "      <th></th>\n",
              "      <th></th>\n",
              "      <th></th>\n",
              "    </tr>\n",
              "  </thead>\n",
              "  <tbody>\n",
              "    <tr>\n",
              "      <th>1</th>\n",
              "      <td>no_keyword</td>\n",
              "      <td>no_location</td>\n",
              "      <td>our deeds are the reason of this earthquake ma...</td>\n",
              "      <td>1</td>\n",
              "      <td>13</td>\n",
              "      <td>69</td>\n",
              "      <td>13</td>\n",
              "      <td>0</td>\n",
              "      <td>4.384615</td>\n",
              "      <td>1</td>\n",
              "      <td>1</td>\n",
              "      <td>0</td>\n",
              "      <td>6</td>\n",
              "      <td>0.660714</td>\n",
              "    </tr>\n",
              "    <tr>\n",
              "      <th>4</th>\n",
              "      <td>no_keyword</td>\n",
              "      <td>no_location</td>\n",
              "      <td>forest fire near la ronge sask canada</td>\n",
              "      <td>1</td>\n",
              "      <td>7</td>\n",
              "      <td>38</td>\n",
              "      <td>7</td>\n",
              "      <td>0</td>\n",
              "      <td>4.571429</td>\n",
              "      <td>1</td>\n",
              "      <td>0</td>\n",
              "      <td>0</td>\n",
              "      <td>0</td>\n",
              "      <td>0.660714</td>\n",
              "    </tr>\n",
              "    <tr>\n",
              "      <th>5</th>\n",
              "      <td>no_keyword</td>\n",
              "      <td>no_location</td>\n",
              "      <td>all residents asked to shelter in place are be...</td>\n",
              "      <td>1</td>\n",
              "      <td>22</td>\n",
              "      <td>133</td>\n",
              "      <td>20</td>\n",
              "      <td>0</td>\n",
              "      <td>5.090909</td>\n",
              "      <td>3</td>\n",
              "      <td>0</td>\n",
              "      <td>0</td>\n",
              "      <td>11</td>\n",
              "      <td>0.660714</td>\n",
              "    </tr>\n",
              "    <tr>\n",
              "      <th>6</th>\n",
              "      <td>no_keyword</td>\n",
              "      <td>no_location</td>\n",
              "      <td>people receive wildfires evacuation orders in...</td>\n",
              "      <td>1</td>\n",
              "      <td>8</td>\n",
              "      <td>65</td>\n",
              "      <td>8</td>\n",
              "      <td>0</td>\n",
              "      <td>7.125000</td>\n",
              "      <td>2</td>\n",
              "      <td>1</td>\n",
              "      <td>0</td>\n",
              "      <td>1</td>\n",
              "      <td>0.660714</td>\n",
              "    </tr>\n",
              "    <tr>\n",
              "      <th>7</th>\n",
              "      <td>no_keyword</td>\n",
              "      <td>no_location</td>\n",
              "      <td>just got sent this photo from ruby alaska as s...</td>\n",
              "      <td>1</td>\n",
              "      <td>16</td>\n",
              "      <td>88</td>\n",
              "      <td>15</td>\n",
              "      <td>0</td>\n",
              "      <td>4.500000</td>\n",
              "      <td>2</td>\n",
              "      <td>2</td>\n",
              "      <td>0</td>\n",
              "      <td>7</td>\n",
              "      <td>0.660714</td>\n",
              "    </tr>\n",
              "  </tbody>\n",
              "</table>\n",
              "</div>"
            ]
          },
          "metadata": {
            "tags": []
          },
          "execution_count": 31
        }
      ]
    },
    {
      "cell_type": "markdown",
      "metadata": {
        "id": "osqh93FeGP0n",
        "colab_type": "text"
      },
      "source": [
        "## **Models** <br>\n",
        "In the following steps we will take a look 5 different models, in order to find out, which way of prediction is the best:\n",
        "\n",
        "\n",
        "1.  **Jaccard Similarity based on the idea of a recommender system** <br>\n",
        "In this approach, the similarity of the sentences is the basis for the model. The definition is as follows: <br>\n",
        "  *Jaccard similarity or intersection over union is defined as size of intersection divided by size of union of two sets.* <br>\n",
        "However, in this case it is important to know that multiple use of words within a sentence has no effect. (e.g. Jaccard similarity does not distinguish between the sentences \"The house is green\" and \"The house is house is green\") \n",
        "The approach can be simplified in Python as below: \n",
        "```\n",
        "def jaccard_sim(str1, str2): \n",
        "    a = set(str1.split()) \n",
        "    b = set(str2.split())\n",
        "    c = a.intersection(b)\n",
        "    return float(len(c)) / (len(a) + len(b) - len(c)\n",
        "\n",
        "    set() splits the sentence into the alphabet:\n",
        "        set('string')\n",
        "  --> set(['g', 'i', 'n', 's', 'r', 't'])\n",
        "```\n",
        "2.   **Levenshtein Similarity based on the idea of a recommender system** <br>\n",
        "The Levenshtein distance (also called edit distance) between two strings is the minimum number of insert, delete and replace operations to convert the first string to the second. <br>\n",
        "For example, the Levenshtein distance between \"Tier\" and \"Tor\" is 2. A possible consequence of two operations is:\n",
        "\n",
        "  *   Tier\n",
        "  *   Toer (Replace i with o)\n",
        "  *   Tor (Delete e)\n",
        "\n",
        "  A central point of this model is the consideration of the number of characters. This can be an advantage or disadvantage in the application. However, due to the character limit of 150 per tweet, it seems to be a workable approach.\n",
        "  Based on a created distance matrix between the tweets it is possible to show the similarity between statements. The test data can be added to this matrix. For each test tweet the train tweet with the smallest distance is determined and a classification is deduced.\n",
        "\n",
        "3.   **Logistic Regression** <br>\n",
        "4.   **Word2Vev** <br>\n",
        "Word2vec is a two-layer neural network for word processing. It \"vectorizes\" words, making natural language computer readable.\n",
        "The goal of Word2vec is to merge vectors of similar words in vector space, so it recognizes the context, without human help.  A well-trained set of word vectors places similar words close together in this space. The words oak, elm, and birch could be grouped together in one corner, while war, conflict, and strife could merge in another.\n",
        "\n",
        "\n",
        "5.   **BERT (Bidirectional Encoder Representations from Transformers)**<br>\n",
        "\n",
        "  BERT makes use of Transformer, an attention mechanism that learns contextual relations between words (or sub-words) in a text. In its vanilla form, Transformer includes two separate mechanisms — an encoder that reads the text input and a decoder that produces a prediction for the task. Since BERT’s goal is to generate a language model, only the encoder mechanism is necessary.\n",
        "  A particular feature of this approach is that BERT also pays attention to the word order. \n",
        "Thus, the complete context of words can be assessed by also considering the words before and after another word. In this way, the intention of complex texts or tweets can be better determined. (https://towardsdatascience.com/bert-explained-state-of-the-art-language-model-for-nlp-f8b21a9b6270)\n",
        "\n"
      ]
    },
    {
      "cell_type": "code",
      "metadata": {
        "id": "lnk0wZWVWD0W",
        "trusted": true,
        "colab_type": "code",
        "colab": {}
      },
      "source": [
        "#Use a subset of train in order to show how this approaches are working\n",
        "train_sub={'text': train['text'][0:100]}\n",
        "data = pd.DataFrame(train_sub)"
      ],
      "execution_count": null,
      "outputs": []
    },
    {
      "cell_type": "markdown",
      "metadata": {
        "id": "I9dm7G9vjjCC",
        "colab_type": "text"
      },
      "source": [
        "## **1. Jaccard Similarity**"
      ]
    },
    {
      "cell_type": "code",
      "metadata": {
        "id": "BmdC3ZUhDa-t",
        "trusted": true,
        "colab_type": "code",
        "colab": {}
      },
      "source": [
        "#This would be a custom definition, but it is already included as part of nltk (but just for numeric values)\n",
        "def jaccard_sim(str1, str2): \n",
        "    a = set(str1.split()) \n",
        "    b = set(str2.split())\n",
        "    c = a.intersection(b)\n",
        "    return float(len(c)) / (len(a) + len(b) - len(c))\n"
      ],
      "execution_count": null,
      "outputs": []
    },
    {
      "cell_type": "code",
      "metadata": {
        "id": "6gqxxsAxm0Su",
        "trusted": true,
        "colab_type": "code",
        "colab": {},
        "outputId": "259fb4be-cefe-4834-9cfe-028e3e6d5ead"
      },
      "source": [
        "#example to show how the model basically works\n",
        "\n",
        "w1 = set(\"An earthquake shocks Japan\")\n",
        "w2 = set(\"The victory of the team resembled an earthquake\")\n",
        " \n",
        "nltk.jaccard_distance(w1, w2)"
      ],
      "execution_count": null,
      "outputs": [
        {
          "output_type": "execute_result",
          "data": {
            "text/plain": [
              "0.48"
            ]
          },
          "metadata": {
            "tags": []
          },
          "execution_count": 34
        }
      ]
    },
    {
      "cell_type": "code",
      "metadata": {
        "id": "wThUS6vsmp6w",
        "trusted": true,
        "colab_type": "code",
        "colab": {},
        "outputId": "8d3c1967-465f-4071-b891-a0dceb57adbb"
      },
      "source": [
        "from scipy.spatial.distance import pdist, squareform\n",
        "\n",
        "# my list of strings\n",
        "strings_jacc = data['text']\n",
        "\n",
        "# prepare 2 dimensional array M x N (M entries (3) with N dimensions (1)) \n",
        "transformed_strings_jacc = np.array(strings_jacc).reshape(-1,1)\n",
        "\n",
        "# calculate condensed distance matrix by wrapping the Levenshtein distance function\n",
        "distance_matrix_jacc = pdist(transformed_strings_jacc,lambda x,y: jaccard_sim(x[0],y[0]))\n",
        "\n",
        "# get square matrix\n",
        "sq_distance_matrix_jacc=squareform(distance_matrix_jacc)\n",
        "\n",
        "#Modify the main diagonal of the matrix\n",
        "np.fill_diagonal(sq_distance_matrix_jacc, 0)\n",
        "\n",
        "print(sq_distance_matrix_jacc)"
      ],
      "execution_count": null,
      "outputs": [
        {
          "output_type": "stream",
          "text": [
            "[[0.         0.         0.06896552 ... 0.         0.         0.        ]\n",
            " [0.         0.         0.         ... 0.         0.         0.        ]\n",
            " [0.06896552 0.         0.         ... 0.03846154 0.03030303 0.0625    ]\n",
            " ...\n",
            " [0.         0.         0.03846154 ... 0.         0.04166667 0.08695652]\n",
            " [0.         0.         0.03030303 ... 0.04166667 0.         0.18518519]\n",
            " [0.         0.         0.0625     ... 0.08695652 0.18518519 0.        ]]\n"
          ],
          "name": "stdout"
        }
      ]
    },
    {
      "cell_type": "code",
      "metadata": {
        "id": "9K_O2n1em3dW",
        "trusted": true,
        "colab_type": "code",
        "colab": {},
        "outputId": "c4d54243-715c-41a4-ca02-42f93a970e13"
      },
      "source": [
        "# plot it with seaborn\n",
        "plt.figure(figsize=(10,10))\n",
        "sns.heatmap(\n",
        "    sq_distance_matrix_jacc,\n",
        "    cmap='rocket',\n",
        "    linewidth=1\n",
        ")"
      ],
      "execution_count": null,
      "outputs": [
        {
          "output_type": "execute_result",
          "data": {
            "text/plain": [
              "<matplotlib.axes._subplots.AxesSubplot at 0x7f11cdb2bf50>"
            ]
          },
          "metadata": {
            "tags": []
          },
          "execution_count": 36
        },
        {
          "output_type": "display_data",
          "data": {
            "text/plain": [
              "<Figure size 720x720 with 2 Axes>"
            ],
            "image/png": "[encoded data removed]"
          },
          "metadata": {
            "tags": [],
            "needs_background": "light"
          }
        }
      ]
    },
    {
      "cell_type": "code",
      "metadata": {
        "id": "32aeZ1hinI1c",
        "trusted": true,
        "colab_type": "code",
        "colab": {},
        "outputId": "861dcb3c-6489-4965-d207-b221f401698c"
      },
      "source": [
        "print('Avarage distance: ' + str(np.average(sq_distance_matrix_jacc)))\n",
        "print('Min distance: ' + str(np.min(sq_distance_matrix_jacc)))\n",
        "print('Max distance: ' + str(np.max(sq_distance_matrix_jacc)))"
      ],
      "execution_count": null,
      "outputs": [
        {
          "output_type": "stream",
          "text": [
            "Avarage distance: 0.026217303906703973\n",
            "Min distance: 0.0\n",
            "Max distance: 0.8571428571428571\n"
          ],
          "name": "stdout"
        }
      ]
    },
    {
      "cell_type": "markdown",
      "metadata": {
        "id": "dHOcST30D17N",
        "trusted": true,
        "colab_type": "text"
      },
      "source": [
        "Since the average distance is so small, it is not worth pursuing this approach further."
      ]
    },
    {
      "cell_type": "markdown",
      "metadata": {
        "id": "6Xcw7Y9rxItg",
        "colab_type": "text"
      },
      "source": [
        "## **2. Levenshtein distance**"
      ]
    },
    {
      "cell_type": "code",
      "metadata": {
        "id": "dPp8UG7RYELs",
        "trusted": true,
        "colab_type": "code",
        "colab": {},
        "outputId": "9cc0b0f1-99de-441e-9011-5e4025defde9"
      },
      "source": [
        "from Levenshtein import distance\n",
        "from scipy.spatial.distance import pdist, squareform\n",
        "\n",
        "# my list of strings\n",
        "strings = data['text']\n",
        "\n",
        "# prepare 2 dimensional array M x N (M entries (3) with N dimensions (1)) \n",
        "transformed_strings = np.array(strings).reshape(-1,1)\n",
        "\n",
        "# calculate condensed distance matrix by wrapping the Levenshtein distance function\n",
        "distance_matrix = pdist(transformed_strings,lambda x,y: distance(x[0],y[0]))\n",
        "\n",
        "# get square matrix\n",
        "sq_distance_matrix=squareform(distance_matrix)\n",
        "print(sq_distance_matrix)\n"
      ],
      "execution_count": null,
      "outputs": [
        {
          "output_type": "stream",
          "text": [
            "[[  0.  52.  96. ...  51.  67.  73.]\n",
            " [ 52.   0. 104. ...  35.  72.  80.]\n",
            " [ 96. 104.   0. ...  99.  95.  97.]\n",
            " ...\n",
            " [ 51.  35.  99. ...   0.  68.  73.]\n",
            " [ 67.  72.  95. ...  68.   0.  72.]\n",
            " [ 73.  80.  97. ...  73.  72.   0.]]\n"
          ],
          "name": "stdout"
        }
      ]
    },
    {
      "cell_type": "code",
      "metadata": {
        "id": "PMcInlfH2cAN",
        "trusted": true,
        "colab_type": "code",
        "colab": {}
      },
      "source": [
        "#Modify the main diagonal of the matrix\n",
        "np.fill_diagonal(sq_distance_matrix, 200)"
      ],
      "execution_count": null,
      "outputs": []
    },
    {
      "cell_type": "code",
      "metadata": {
        "id": "RKfdOPBDvTlx",
        "trusted": true,
        "colab_type": "code",
        "colab": {},
        "outputId": "ae652029-fbe1-49d5-e102-25ff7810aaee"
      },
      "source": [
        "# plot it with seaborn\n",
        "plt.figure(figsize=(10,10))\n",
        "sns.heatmap(\n",
        "    sq_distance_matrix,\n",
        "    cmap='rocket',\n",
        "    linewidth=1\n",
        ")"
      ],
      "execution_count": null,
      "outputs": [
        {
          "output_type": "execute_result",
          "data": {
            "text/plain": [
              "<matplotlib.axes._subplots.AxesSubplot at 0x7f11ce733d10>"
            ]
          },
          "metadata": {
            "tags": []
          },
          "execution_count": 40
        },
        {
          "output_type": "display_data",
          "data": {
            "text/plain": [
              "<Figure size 720x720 with 2 Axes>"
            ],
            "image/png": "[encoded data removed]"
          },
          "metadata": {
            "tags": [],
            "needs_background": "light"
          }
        }
      ]
    },
    {
      "cell_type": "code",
      "metadata": {
        "id": "BETFI20s4fHA",
        "trusted": true,
        "colab_type": "code",
        "colab": {},
        "outputId": "499cc823-166c-4ac8-fe33-2f4007d328b7"
      },
      "source": [
        "#Check if this approach works with an example\n",
        "print(train['text'][15] + \" \" + str(train['target'][15]))\n",
        "print(train['text'][18] + \" \" + str(train['target'][18]))\n",
        "\n",
        "print(\"Those two sentences got a distance of \"+ str(distance(train['text'][15],train['text'][18])))"
      ],
      "execution_count": null,
      "outputs": [
        {
          "output_type": "stream",
          "text": [
            "im afraid that the tornado is coming to our area 1\n",
            "raining flooding florida tampabay tampa  or  days ive lost count  1\n",
            "Those two sentences got a distance of 50\n"
          ],
          "name": "stdout"
        }
      ]
    },
    {
      "cell_type": "markdown",
      "metadata": {
        "id": "dOCN0F_x6gA_",
        "trusted": true,
        "colab_type": "text"
      },
      "source": [
        "Looks very good at first glance, but both tweets are very short, or it could also be pure coincidence. <br>\n",
        "Therefore it is necessary to check the entire data."
      ]
    },
    {
      "cell_type": "code",
      "metadata": {
        "trusted": true,
        "id": "URiOGgHKdBMK",
        "colab_type": "code",
        "colab": {},
        "outputId": "1acadfb9-f00d-47ee-b805-e61b571f92d2"
      },
      "source": [
        "print('Avarage distance: ' + str(np.average(sq_distance_matrix)))\n",
        "print('Min distance: ' + str(np.min(sq_distance_matrix)))\n",
        "print('Max distance: ' + str(np.max(sq_distance_matrix)))"
      ],
      "execution_count": null,
      "outputs": [
        {
          "output_type": "stream",
          "text": [
            "Avarage distance: 70.1346\n",
            "Min distance: 4.0\n",
            "Max distance: 200.0\n"
          ],
          "name": "stdout"
        }
      ]
    },
    {
      "cell_type": "code",
      "metadata": {
        "trusted": true,
        "id": "7yCibs_5dBMN",
        "colab_type": "code",
        "colab": {},
        "outputId": "015b8e1f-3b8f-421f-dfe1-98c2ceb13458"
      },
      "source": [
        "#Since the maximum number of characters is 150, this offers a possibility to check whether it is worthwhile to continue this approach.\n",
        "print(\"The Matrix got \" +  str(len(sq_distance_matrix)**2) + \" elements\")\n",
        "print(\"The avarage length of a tweet is \" + str(int(train['char_count'].mean())) + \" characters\")\n",
        "print(str(np.sum(sq_distance_matrix>=50)) + \" of them got a value over 50\")"
      ],
      "execution_count": null,
      "outputs": [
        {
          "output_type": "stream",
          "text": [
            "The Matrix got 10000 elements\n",
            "The avarage length of a tweet is 100 characters\n",
            "7506 of them got a value over 50\n"
          ],
          "name": "stdout"
        }
      ]
    },
    {
      "cell_type": "markdown",
      "metadata": {
        "id": "O3-Y5cYEdBMS",
        "colab_type": "text"
      },
      "source": [
        "Since only about 1/4 of the test data show a distance of less than 50, this approach will not be pursued further. The similarity according to Levenshtein distance is not sufficient to draw conclusions about the classification. If this approach would have shown a smaller avarage distance, you could proceed similar to a recommender system. Each tweet from the test data would be added to the matrix. The tweet of the training data with the smallest distance is then determined and the classification is deduced from this."
      ]
    },
    {
      "cell_type": "markdown",
      "metadata": {
        "id": "UgLtYXdTXz2N",
        "colab_type": "text"
      },
      "source": [
        "## **3. Logistic Regression**"
      ]
    },
    {
      "cell_type": "code",
      "metadata": {
        "id": "kn3KwvmSa_N2",
        "trusted": true,
        "colab_type": "code",
        "colab": {}
      },
      "source": [
        "from sklearn.model_selection import train_test_split\n",
        "from sklearn.feature_extraction.text import TfidfVectorizer\n",
        "from sklearn.linear_model import LogisticRegression\n",
        "from sklearn.metrics import roc_auc_score\n",
        "from sklearn.metrics import f1_score\n",
        "\n",
        "#split into train and test\n",
        "X_train,X_test,y_train,y_test = train_test_split(train['text'],train['target'])\n",
        "vector = TfidfVectorizer().fit(X_train)\n",
        "\n",
        "#vektorize the tweets\n",
        "X_train_vector = vector.transform(X_train)\n",
        "X_test_vector = vector.transform(X_test)"
      ],
      "execution_count": null,
      "outputs": []
    },
    {
      "cell_type": "code",
      "metadata": {
        "id": "JHtpXbY3b_eG",
        "trusted": true,
        "colab_type": "code",
        "colab": {},
        "outputId": "b5032e6a-ff56-46f7-f676-24f2d11919a2"
      },
      "source": [
        "score_df = pd.DataFrame(columns={'Model Description','Score'})\n",
        "\n",
        "model = LogisticRegression().fit(X_train_vector,y_train)\n",
        "print('Logistic Regression with TFIDF - ' + str((roc_auc_score(y_test,model.predict(X_test_vector)))))\n",
        "print('F1Score - ' + str((f1_score(y_test,model.predict(X_test_vector)))))"
      ],
      "execution_count": null,
      "outputs": [
        {
          "output_type": "stream",
          "text": [
            "Logistic Regression with TFIDF - 0.7811415435047033\n",
            "F1Score - 0.7380125086865879\n"
          ],
          "name": "stdout"
        }
      ]
    },
    {
      "cell_type": "markdown",
      "metadata": {
        "id": "Zvaibw7ic96w",
        "colab_type": "text"
      },
      "source": [
        "A score or 0.7811 is a really good result for such a simple model."
      ]
    },
    {
      "cell_type": "markdown",
      "metadata": {
        "id": "VhXwIX_i3Nsw",
        "colab_type": "text"
      },
      "source": [
        "## **4. Word2Vec**"
      ]
    },
    {
      "cell_type": "code",
      "metadata": {
        "id": "jQLmNteL6SW9",
        "trusted": true,
        "colab_type": "code",
        "colab": {},
        "outputId": "e22c5d3b-f883-44ef-f37c-d7aea90a676c"
      },
      "source": [
        "#tokenize the tweets\n",
        "tokenizer = nltk.tokenize.RegexpTokenizer(r'\\w+')\n",
        "train['text_tokenized'] = train['text'].apply(lambda x: tokenizer.tokenize(x))\n",
        "test['text_tokenized'] = test['text'].apply(lambda x: tokenizer.tokenize(x))\n",
        "train.head(3)"
      ],
      "execution_count": null,
      "outputs": [
        {
          "output_type": "execute_result",
          "data": {
            "text/plain": [
              "       keyword     location  \\\n",
              "id                            \n",
              "1   no_keyword  no_location   \n",
              "4   no_keyword  no_location   \n",
              "5   no_keyword  no_location   \n",
              "\n",
              "                                                 text  target  word_count  \\\n",
              "id                                                                          \n",
              "1   our deeds are the reason of this earthquake ma...       1          13   \n",
              "4               forest fire near la ronge sask canada       1           7   \n",
              "5   all residents asked to shelter in place are be...       1          22   \n",
              "\n",
              "    char_count  unique_word_count  link_count  mean_word_length  \\\n",
              "id                                                                \n",
              "1           69                 13           0          4.384615   \n",
              "4           38                  7           0          4.571429   \n",
              "5          133                 20           0          5.090909   \n",
              "\n",
              "    punctuation_count  hashtag_count  at_count  stopword_count  \\\n",
              "id                                                               \n",
              "1                   1              1         0               6   \n",
              "4                   1              0         0               0   \n",
              "5                   3              0         0              11   \n",
              "\n",
              "    keyword_target_mean                                     text_tokenized  \n",
              "id                                                                          \n",
              "1              0.660714  [our, deeds, are, the, reason, of, this, earth...  \n",
              "4              0.660714      [forest, fire, near, la, ronge, sask, canada]  \n",
              "5              0.660714  [all, residents, asked, to, shelter, in, place...  "
            ],
            "text/html": [
              "<div>\n",
              "<style scoped>\n",
              "    .dataframe tbody tr th:only-of-type {\n",
              "        vertical-align: middle;\n",
              "    }\n",
              "\n",
              "    .dataframe tbody tr th {\n",
              "        vertical-align: top;\n",
              "    }\n",
              "\n",
              "    .dataframe thead th {\n",
              "        text-align: right;\n",
              "    }\n",
              "</style>\n",
              "<table border=\"1\" class=\"dataframe\">\n",
              "  <thead>\n",
              "    <tr style=\"text-align: right;\">\n",
              "      <th></th>\n",
              "      <th>keyword</th>\n",
              "      <th>location</th>\n",
              "      <th>text</th>\n",
              "      <th>target</th>\n",
              "      <th>word_count</th>\n",
              "      <th>char_count</th>\n",
              "      <th>unique_word_count</th>\n",
              "      <th>link_count</th>\n",
              "      <th>mean_word_length</th>\n",
              "      <th>punctuation_count</th>\n",
              "      <th>hashtag_count</th>\n",
              "      <th>at_count</th>\n",
              "      <th>stopword_count</th>\n",
              "      <th>keyword_target_mean</th>\n",
              "      <th>text_tokenized</th>\n",
              "    </tr>\n",
              "    <tr>\n",
              "      <th>id</th>\n",
              "      <th></th>\n",
              "      <th></th>\n",
              "      <th></th>\n",
              "      <th></th>\n",
              "      <th></th>\n",
              "      <th></th>\n",
              "      <th></th>\n",
              "      <th></th>\n",
              "      <th></th>\n",
              "      <th></th>\n",
              "      <th></th>\n",
              "      <th></th>\n",
              "      <th></th>\n",
              "      <th></th>\n",
              "      <th></th>\n",
              "    </tr>\n",
              "  </thead>\n",
              "  <tbody>\n",
              "    <tr>\n",
              "      <th>1</th>\n",
              "      <td>no_keyword</td>\n",
              "      <td>no_location</td>\n",
              "      <td>our deeds are the reason of this earthquake ma...</td>\n",
              "      <td>1</td>\n",
              "      <td>13</td>\n",
              "      <td>69</td>\n",
              "      <td>13</td>\n",
              "      <td>0</td>\n",
              "      <td>4.384615</td>\n",
              "      <td>1</td>\n",
              "      <td>1</td>\n",
              "      <td>0</td>\n",
              "      <td>6</td>\n",
              "      <td>0.660714</td>\n",
              "      <td>[our, deeds, are, the, reason, of, this, earth...</td>\n",
              "    </tr>\n",
              "    <tr>\n",
              "      <th>4</th>\n",
              "      <td>no_keyword</td>\n",
              "      <td>no_location</td>\n",
              "      <td>forest fire near la ronge sask canada</td>\n",
              "      <td>1</td>\n",
              "      <td>7</td>\n",
              "      <td>38</td>\n",
              "      <td>7</td>\n",
              "      <td>0</td>\n",
              "      <td>4.571429</td>\n",
              "      <td>1</td>\n",
              "      <td>0</td>\n",
              "      <td>0</td>\n",
              "      <td>0</td>\n",
              "      <td>0.660714</td>\n",
              "      <td>[forest, fire, near, la, ronge, sask, canada]</td>\n",
              "    </tr>\n",
              "    <tr>\n",
              "      <th>5</th>\n",
              "      <td>no_keyword</td>\n",
              "      <td>no_location</td>\n",
              "      <td>all residents asked to shelter in place are be...</td>\n",
              "      <td>1</td>\n",
              "      <td>22</td>\n",
              "      <td>133</td>\n",
              "      <td>20</td>\n",
              "      <td>0</td>\n",
              "      <td>5.090909</td>\n",
              "      <td>3</td>\n",
              "      <td>0</td>\n",
              "      <td>0</td>\n",
              "      <td>11</td>\n",
              "      <td>0.660714</td>\n",
              "      <td>[all, residents, asked, to, shelter, in, place...</td>\n",
              "    </tr>\n",
              "  </tbody>\n",
              "</table>\n",
              "</div>"
            ]
          },
          "metadata": {
            "tags": []
          },
          "execution_count": 46
        }
      ]
    },
    {
      "cell_type": "code",
      "metadata": {
        "id": "jt6gskIA-Wl3",
        "trusted": true,
        "colab_type": "code",
        "colab": {}
      },
      "source": [
        "#importing a pretrained word2vec model in order to get better results\n",
        "import gensim\n",
        "model = gensim.models.KeyedVectors.load_word2vec_format('../input/googles-trained-word2vec-model-in-python/GoogleNews-vectors-negative300.bin', binary=True)\n",
        "#path = '../input/googles-trained-word2vec-model-in-python'\n",
        "#model = gensim.models.KeyedVectors.load_word2vec_format(path,binary=True)"
      ],
      "execution_count": null,
      "outputs": []
    },
    {
      "cell_type": "code",
      "metadata": {
        "id": "LvhXJWA1N2_F",
        "trusted": true,
        "colab_type": "code",
        "colab": {},
        "outputId": "8e19d0c0-7e5e-46f2-84c8-5fd3a7e9e5e4"
      },
      "source": [
        "#let's try the functionality with one of the top disaster keywords, maybe some other keywords show up\n",
        "model.similar_by_word('outbreak', topn=5)"
      ],
      "execution_count": null,
      "outputs": [
        {
          "output_type": "execute_result",
          "data": {
            "text/plain": [
              "[('outbreaks', 0.8043085932731628),\n",
              " ('bird_flu_outbreak', 0.6895532608032227),\n",
              " ('flu_outbreak', 0.6868605613708496),\n",
              " ('avian_flu_outbreak', 0.6808136105537415),\n",
              " ('avian_influenza_outbreak', 0.6709142923355103)]"
            ]
          },
          "metadata": {
            "tags": []
          },
          "execution_count": 48
        }
      ]
    },
    {
      "cell_type": "code",
      "metadata": {
        "id": "10jMqRYSOdM3",
        "trusted": true,
        "colab_type": "code",
        "colab": {}
      },
      "source": [
        "#create a list corpus which we would be using to train word2vec mappings\n",
        "def fn_pre_process_data(doc):\n",
        "    for rec in doc:\n",
        "        yield gensim.utils.simple_preprocess(rec)\n",
        "\n",
        "corpus = list(fn_pre_process_data(train['text']))\n",
        "corpus += list(fn_pre_process_data(test['text']))"
      ],
      "execution_count": null,
      "outputs": []
    },
    {
      "cell_type": "code",
      "metadata": {
        "id": "v_2-o1n2UDAU",
        "trusted": true,
        "colab_type": "code",
        "colab": {},
        "outputId": "cce47570-84ec-418d-8d50-89a9b31305df"
      },
      "source": [
        "from gensim.models import Word2Vec\n",
        "\n",
        "w2v_model = Word2Vec(corpus,size=150,window=3,min_count=2)\n",
        "w2v_model.train(corpus,total_examples=len(corpus),epochs=10)"
      ],
      "execution_count": null,
      "outputs": [
        {
          "output_type": "execute_result",
          "data": {
            "text/plain": [
              "(1092068, 1394400)"
            ]
          },
          "metadata": {
            "tags": []
          },
          "execution_count": 50
        }
      ]
    },
    {
      "cell_type": "code",
      "metadata": {
        "id": "s_89K2xUUaQe",
        "trusted": true,
        "colab_type": "code",
        "colab": {},
        "outputId": "ac2551ca-8c6f-49f1-e709-9c0f4e33e716"
      },
      "source": [
        "def get_word_embeddings(token_list,vector,k=150):\n",
        "    if len(token_list) < 1:\n",
        "        return np.zeros(k)\n",
        "    else:\n",
        "        vectorized = [vector[word] if word in vector else np.random.rand(k) for word in token_list] \n",
        "    \n",
        "    sum = np.sum(vectorized,axis=0)\n",
        "    ## return the average\n",
        "    return sum/len(vectorized)        \n",
        "def get_embeddings(tokens,vector):\n",
        "        embeddings = tokens.apply(lambda x: get_word_embeddings(x, w2v_model))\n",
        "        return list(embeddings)\n",
        "\n",
        "train_embeddings = get_embeddings(train['text_tokenized'],w2v_model)\n",
        "test_embeddings = get_embeddings(test['text_tokenized'],w2v_model)"
      ],
      "execution_count": null,
      "outputs": [
        {
          "output_type": "stream",
          "text": [
            "/opt/conda/lib/python3.7/site-packages/ipykernel_launcher.py:5: DeprecationWarning: Call to deprecated `__contains__` (Method will be removed in 4.0.0, use self.wv.__contains__() instead).\n",
            "  \"\"\"\n",
            "/opt/conda/lib/python3.7/site-packages/ipykernel_launcher.py:5: DeprecationWarning: Call to deprecated `__getitem__` (Method will be removed in 4.0.0, use self.wv.__getitem__() instead).\n",
            "  \"\"\"\n"
          ],
          "name": "stderr"
        }
      ]
    },
    {
      "cell_type": "markdown",
      "metadata": {
        "id": "jqPfOFvtU9c7",
        "colab_type": "text"
      },
      "source": [
        "Let's start applying learning models.\n",
        "\n",
        "We will start by applying Logisitic Regression to get a baseline by using Gridsearch to get the best combination of parameters for Logisitic Regression."
      ]
    },
    {
      "cell_type": "code",
      "metadata": {
        "id": "jvK054y6U3kj",
        "trusted": true,
        "colab_type": "code",
        "colab": {},
        "outputId": "cc24a44b-0aad-4766-e83a-c832b24bbeeb"
      },
      "source": [
        "from sklearn.linear_model import LogisticRegression\n",
        "from sklearn.model_selection import GridSearchCV\n",
        "\n",
        "lr_model = LogisticRegression()\n",
        "grid_values ={'penalty':['l1','l2'],'C':[0.0001,0.001,0.01,0.1,1,10]}\n",
        "grid_search_model = GridSearchCV(lr_model,param_grid=grid_values,cv=3)\n",
        "grid_search_model.fit(train_embeddings,train['target'])\n",
        "print(grid_search_model.best_estimator_)\n",
        "print(grid_search_model.best_score_)\n",
        "print(grid_search_model.best_params_)\n",
        "\n",
        "predict_lr = grid_search_model.predict(test_embeddings)"
      ],
      "execution_count": null,
      "outputs": [
        {
          "output_type": "stream",
          "text": [
            "/opt/conda/lib/python3.7/site-packages/sklearn/model_selection/_validation.py:552: FitFailedWarning: Estimator fit failed. The score on this train-test partition for these parameters will be set to nan. Details: \n",
            "Traceback (most recent call last):\n",
            "  File \"/opt/conda/lib/python3.7/site-packages/sklearn/model_selection/_validation.py\", line 531, in _fit_and_score\n",
            "    estimator.fit(X_train, y_train, **fit_params)\n",
            "  File \"/opt/conda/lib/python3.7/site-packages/sklearn/linear_model/_logistic.py\", line 1304, in fit\n",
            "    solver = _check_solver(self.solver, self.penalty, self.dual)\n",
            "  File \"/opt/conda/lib/python3.7/site-packages/sklearn/linear_model/_logistic.py\", line 443, in _check_solver\n",
            "    \"got %s penalty.\" % (solver, penalty))\n",
            "ValueError: Solver lbfgs supports only 'l2' or 'none' penalties, got l1 penalty.\n",
            "\n",
            "  FitFailedWarning)\n",
            "/opt/conda/lib/python3.7/site-packages/sklearn/model_selection/_validation.py:552: FitFailedWarning: Estimator fit failed. The score on this train-test partition for these parameters will be set to nan. Details: \n",
            "Traceback (most recent call last):\n",
            "  File \"/opt/conda/lib/python3.7/site-packages/sklearn/model_selection/_validation.py\", line 531, in _fit_and_score\n",
            "    estimator.fit(X_train, y_train, **fit_params)\n",
            "  File \"/opt/conda/lib/python3.7/site-packages/sklearn/linear_model/_logistic.py\", line 1304, in fit\n",
            "    solver = _check_solver(self.solver, self.penalty, self.dual)\n",
            "  File \"/opt/conda/lib/python3.7/site-packages/sklearn/linear_model/_logistic.py\", line 443, in _check_solver\n",
            "    \"got %s penalty.\" % (solver, penalty))\n",
            "ValueError: Solver lbfgs supports only 'l2' or 'none' penalties, got l1 penalty.\n",
            "\n",
            "  FitFailedWarning)\n",
            "/opt/conda/lib/python3.7/site-packages/sklearn/model_selection/_validation.py:552: FitFailedWarning: Estimator fit failed. The score on this train-test partition for these parameters will be set to nan. Details: \n",
            "Traceback (most recent call last):\n",
            "  File \"/opt/conda/lib/python3.7/site-packages/sklearn/model_selection/_validation.py\", line 531, in _fit_and_score\n",
            "    estimator.fit(X_train, y_train, **fit_params)\n",
            "  File \"/opt/conda/lib/python3.7/site-packages/sklearn/linear_model/_logistic.py\", line 1304, in fit\n",
            "    solver = _check_solver(self.solver, self.penalty, self.dual)\n",
            "  File \"/opt/conda/lib/python3.7/site-packages/sklearn/linear_model/_logistic.py\", line 443, in _check_solver\n",
            "    \"got %s penalty.\" % (solver, penalty))\n",
            "ValueError: Solver lbfgs supports only 'l2' or 'none' penalties, got l1 penalty.\n",
            "\n",
            "  FitFailedWarning)\n",
            "/opt/conda/lib/python3.7/site-packages/sklearn/model_selection/_validation.py:552: FitFailedWarning: Estimator fit failed. The score on this train-test partition for these parameters will be set to nan. Details: \n",
            "Traceback (most recent call last):\n",
            "  File \"/opt/conda/lib/python3.7/site-packages/sklearn/model_selection/_validation.py\", line 531, in _fit_and_score\n",
            "    estimator.fit(X_train, y_train, **fit_params)\n",
            "  File \"/opt/conda/lib/python3.7/site-packages/sklearn/linear_model/_logistic.py\", line 1304, in fit\n",
            "    solver = _check_solver(self.solver, self.penalty, self.dual)\n",
            "  File \"/opt/conda/lib/python3.7/site-packages/sklearn/linear_model/_logistic.py\", line 443, in _check_solver\n",
            "    \"got %s penalty.\" % (solver, penalty))\n",
            "ValueError: Solver lbfgs supports only 'l2' or 'none' penalties, got l1 penalty.\n",
            "\n",
            "  FitFailedWarning)\n",
            "/opt/conda/lib/python3.7/site-packages/sklearn/model_selection/_validation.py:552: FitFailedWarning: Estimator fit failed. The score on this train-test partition for these parameters will be set to nan. Details: \n",
            "Traceback (most recent call last):\n",
            "  File \"/opt/conda/lib/python3.7/site-packages/sklearn/model_selection/_validation.py\", line 531, in _fit_and_score\n",
            "    estimator.fit(X_train, y_train, **fit_params)\n",
            "  File \"/opt/conda/lib/python3.7/site-packages/sklearn/linear_model/_logistic.py\", line 1304, in fit\n",
            "    solver = _check_solver(self.solver, self.penalty, self.dual)\n",
            "  File \"/opt/conda/lib/python3.7/site-packages/sklearn/linear_model/_logistic.py\", line 443, in _check_solver\n",
            "    \"got %s penalty.\" % (solver, penalty))\n",
            "ValueError: Solver lbfgs supports only 'l2' or 'none' penalties, got l1 penalty.\n",
            "\n",
            "  FitFailedWarning)\n",
            "/opt/conda/lib/python3.7/site-packages/sklearn/model_selection/_validation.py:552: FitFailedWarning: Estimator fit failed. The score on this train-test partition for these parameters will be set to nan. Details: \n",
            "Traceback (most recent call last):\n",
            "  File \"/opt/conda/lib/python3.7/site-packages/sklearn/model_selection/_validation.py\", line 531, in _fit_and_score\n",
            "    estimator.fit(X_train, y_train, **fit_params)\n",
            "  File \"/opt/conda/lib/python3.7/site-packages/sklearn/linear_model/_logistic.py\", line 1304, in fit\n",
            "    solver = _check_solver(self.solver, self.penalty, self.dual)\n",
            "  File \"/opt/conda/lib/python3.7/site-packages/sklearn/linear_model/_logistic.py\", line 443, in _check_solver\n",
            "    \"got %s penalty.\" % (solver, penalty))\n",
            "ValueError: Solver lbfgs supports only 'l2' or 'none' penalties, got l1 penalty.\n",
            "\n",
            "  FitFailedWarning)\n",
            "/opt/conda/lib/python3.7/site-packages/sklearn/linear_model/_logistic.py:764: ConvergenceWarning: lbfgs failed to converge (status=1):\n",
            "STOP: TOTAL NO. of ITERATIONS REACHED LIMIT.\n",
            "\n",
            "Increase the number of iterations (max_iter) or scale the data as shown in:\n",
            "    https://scikit-learn.org/stable/modules/preprocessing.html\n",
            "Please also refer to the documentation for alternative solver options:\n",
            "    https://scikit-learn.org/stable/modules/linear_model.html#logistic-regression\n",
            "  extra_warning_msg=_LOGISTIC_SOLVER_CONVERGENCE_MSG)\n",
            "/opt/conda/lib/python3.7/site-packages/sklearn/linear_model/_logistic.py:764: ConvergenceWarning: lbfgs failed to converge (status=1):\n",
            "STOP: TOTAL NO. of ITERATIONS REACHED LIMIT.\n",
            "\n",
            "Increase the number of iterations (max_iter) or scale the data as shown in:\n",
            "    https://scikit-learn.org/stable/modules/preprocessing.html\n",
            "Please also refer to the documentation for alternative solver options:\n",
            "    https://scikit-learn.org/stable/modules/linear_model.html#logistic-regression\n",
            "  extra_warning_msg=_LOGISTIC_SOLVER_CONVERGENCE_MSG)\n",
            "/opt/conda/lib/python3.7/site-packages/sklearn/linear_model/_logistic.py:764: ConvergenceWarning: lbfgs failed to converge (status=1):\n",
            "STOP: TOTAL NO. of ITERATIONS REACHED LIMIT.\n",
            "\n",
            "Increase the number of iterations (max_iter) or scale the data as shown in:\n",
            "    https://scikit-learn.org/stable/modules/preprocessing.html\n",
            "Please also refer to the documentation for alternative solver options:\n",
            "    https://scikit-learn.org/stable/modules/linear_model.html#logistic-regression\n",
            "  extra_warning_msg=_LOGISTIC_SOLVER_CONVERGENCE_MSG)\n"
          ],
          "name": "stderr"
        },
        {
          "output_type": "stream",
          "text": [
            "LogisticRegression(C=1)\n",
            "0.7337357478202549\n",
            "{'C': 1, 'penalty': 'l2'}\n"
          ],
          "name": "stdout"
        },
        {
          "output_type": "stream",
          "text": [
            "/opt/conda/lib/python3.7/site-packages/sklearn/linear_model/_logistic.py:764: ConvergenceWarning: lbfgs failed to converge (status=1):\n",
            "STOP: TOTAL NO. of ITERATIONS REACHED LIMIT.\n",
            "\n",
            "Increase the number of iterations (max_iter) or scale the data as shown in:\n",
            "    https://scikit-learn.org/stable/modules/preprocessing.html\n",
            "Please also refer to the documentation for alternative solver options:\n",
            "    https://scikit-learn.org/stable/modules/linear_model.html#logistic-regression\n",
            "  extra_warning_msg=_LOGISTIC_SOLVER_CONVERGENCE_MSG)\n"
          ],
          "name": "stderr"
        }
      ]
    },
    {
      "cell_type": "markdown",
      "metadata": {
        "id": "GCv16GaAVgmM",
        "colab_type": "text"
      },
      "source": [
        "Now let's use Random Forrest in order to get the results for Word2Vec"
      ]
    },
    {
      "cell_type": "code",
      "metadata": {
        "id": "kFeAidIZVajO",
        "trusted": true,
        "colab_type": "code",
        "colab": {},
        "outputId": "a736dff3-362d-4a1a-f978-e0d0597c64c0"
      },
      "source": [
        "from sklearn.ensemble import RandomForestClassifier\n",
        "from sklearn.model_selection import GridSearchCV\n",
        "\n",
        "rf_model = RandomForestClassifier()\n",
        "grid_values ={'n_estimators':[10,50,100,150,200,300,400]}\n",
        "\n",
        "grid_search_model = GridSearchCV(rf_model,param_grid=grid_values,cv=4)\n",
        "grid_search_model.fit(train_embeddings,train['target'])\n",
        "print(grid_search_model.best_estimator_)\n",
        "print(grid_search_model.best_score_)\n",
        "print(grid_search_model.best_params_)\n",
        "\n",
        "predict_rf = grid_search_model.predict(test_embeddings)"
      ],
      "execution_count": null,
      "outputs": [
        {
          "output_type": "stream",
          "text": [
            "RandomForestClassifier(n_estimators=300)\n",
            "0.7340065114875403\n",
            "{'n_estimators': 300}\n"
          ],
          "name": "stdout"
        }
      ]
    },
    {
      "cell_type": "markdown",
      "metadata": {
        "id": "eqM7af59WZuD",
        "colab_type": "text"
      },
      "source": [
        "0.7340 is a worse result then i thought, but maybe BERT is a better way to solve this classification problem"
      ]
    },
    {
      "cell_type": "markdown",
      "metadata": {
        "id": "28NkCOtI3VIh",
        "colab_type": "text"
      },
      "source": [
        "## **5. BERT**"
      ]
    },
    {
      "cell_type": "code",
      "metadata": {
        "id": "qQk_O-8CaFfC",
        "colab_type": "code",
        "colab": {}
      },
      "source": [
        "# We will use the official tokenization script created by the Google team\n",
        "!wget --quiet https://raw.githubusercontent.com/tensorflow/models/master/official/nlp/bert/tokenization.py"
      ],
      "execution_count": null,
      "outputs": []
    },
    {
      "cell_type": "code",
      "metadata": {
        "id": "GghZh-XeaIjc",
        "colab_type": "code",
        "colab": {}
      },
      "source": [
        "import tokenization"
      ],
      "execution_count": null,
      "outputs": []
    },
    {
      "cell_type": "code",
      "metadata": {
        "trusted": true,
        "id": "-tGnu6hzdBM1",
        "colab_type": "code",
        "colab": {}
      },
      "source": [
        "#Version 15\n",
        "model_type = 'default'\n",
        "Dropout_num = 0\n",
        "learning_rate = 1e-5\n",
        "max_len = 160\n",
        "layers = [] #not including final layer\n",
        "activation = 'relu' #for the non-final layers\n",
        "epochs=3\n",
        "batch_size=16\n",
        "validation_split=0.2"
      ],
      "execution_count": null,
      "outputs": []
    },
    {
      "cell_type": "code",
      "metadata": {
        "id": "XRC6i7JhGN-O",
        "trusted": true,
        "colab_type": "code",
        "colab": {}
      },
      "source": [
        "def bert_encode(texts, tokenizer, max_len=512):\n",
        "    all_tokens = []\n",
        "    all_masks = []\n",
        "    all_segments = []\n",
        "    \n",
        "    for text in texts:\n",
        "        text = tokenizer.tokenize(text)\n",
        "            \n",
        "        text = text[:max_len-2]\n",
        "        input_sequence = [\"[CLS]\"] + text + [\"[SEP]\"] #CLS and SEP are important in order to show BERT the first position [CLS] and [SEP] at the end of the sentence\n",
        "        pad_len = max_len - len(input_sequence)\n",
        "        \n",
        "        tokens = tokenizer.convert_tokens_to_ids(input_sequence)\n",
        "        tokens += [0] * pad_len\n",
        "        pad_masks = [1] * len(input_sequence) + [0] * pad_len\n",
        "        segment_ids = [0] * max_len\n",
        "        \n",
        "        all_tokens.append(tokens)\n",
        "        all_masks.append(pad_masks)\n",
        "        all_segments.append(segment_ids)\n",
        "    return np.array(all_tokens), np.array(all_masks), np.array(all_segments)"
      ],
      "execution_count": null,
      "outputs": []
    },
    {
      "cell_type": "code",
      "metadata": {
        "trusted": true,
        "id": "inizP8Z0dBM7",
        "colab_type": "code",
        "colab": {}
      },
      "source": [
        "def build_model(bert_layer, max_len=512):\n",
        "    input_word_ids = Input(shape=(max_len,), dtype=tf.int32, name=\"input_word_ids\")\n",
        "    input_mask = Input(shape=(max_len,), dtype=tf.int32, name=\"input_mask\")\n",
        "    segment_ids = Input(shape=(max_len,), dtype=tf.int32, name=\"segment_ids\")\n",
        "    add_input = Input(shape=(ADD_DIM,), dtype=tf.float32, name='add_input')\n",
        "\n",
        "    _, sequence_output = bert_layer([input_word_ids, input_mask, segment_ids])\n",
        "    clf_output = sequence_output[:, 0, :]\n",
        "    \n",
        "    if model_type=='default':\n",
        "        # Without Dropout\n",
        "        for layer in layers:\n",
        "            clf_output = Dense(layer, activation=activation)(clf_output)\n",
        "            clf_output = Concatenate()([clf_output, add_input])\n",
        "        out = Dense(1, activation='sigmoid')(clf_output)\n",
        "    elif model_type=='dropout':\n",
        "        # With Dropout(Dropout_num), Dropout_num > 0\n",
        "        for layer in layers:\n",
        "            x = Dropout(Dropout_num)(clf_output)\n",
        "            clf_output = Dense(layer, activation=activation)(x)\n",
        "            x = Concatenate()([x, add_input])\n",
        "        x = Dropout(Dropout_num)(clf_output)\n",
        "        out = Dense(1, activation='sigmoid')(x)\n",
        "    elif model_type=='GlobalAveragePooling1D':\n",
        "        for layer in layers:\n",
        "            if Dropout_num>0:\n",
        "                clf_output = Dropout(Dropout_num)(clf_output)\n",
        "                clf_output = Concatenate()([clf_output, add_input])\n",
        "            clf_output = Dense(layer, activation=activation)(clf_output)\n",
        "        x = tf.keras.layers.GlobalAveragePooling1D()(sequence_output)\n",
        "        out = Dense(1, activation='sigmoid')(x)\n",
        "\n",
        "    model = Model(inputs=[input_word_ids, input_mask, segment_ids, add_input], outputs=out)\n",
        "    opt = tf.keras.optimizers.Adam(lr=learning_rate)\n",
        "    opt = tf.train.experimental.enable_mixed_precision_graph_rewrite(opt)\n",
        "    model.compile(Adam(lr=learning_rate), loss='binary_crossentropy', metrics=['accuracy'])\n",
        "    \n",
        "    return model"
      ],
      "execution_count": null,
      "outputs": []
    },
    {
      "cell_type": "code",
      "metadata": {
        "trusted": true,
        "id": "iQS1IEaRdBM-",
        "colab_type": "code",
        "colab": {},
        "outputId": "a16c3189-30c4-45ef-a6b3-058c0f60af82"
      },
      "source": [
        "%%time\n",
        "module_url = \"https://tfhub.dev/tensorflow/bert_en_uncased_L-24_H-1024_A-16/1\"\n",
        "bert_layer = hub.KerasLayer(module_url, trainable=True)"
      ],
      "execution_count": null,
      "outputs": [
        {
          "output_type": "stream",
          "text": [
            "CPU times: user 27.9 s, sys: 4.82 s, total: 32.7 s\n",
            "Wall time: 48.6 s\n"
          ],
          "name": "stdout"
        }
      ]
    },
    {
      "cell_type": "code",
      "metadata": {
        "id": "XxcGvZRGFFJL",
        "trusted": true,
        "colab_type": "code",
        "colab": {}
      },
      "source": [
        "FullTokenizer = bert.bert_tokenization.FullTokenizer\n",
        "vocab_file = bert_layer.resolved_object.vocab_file.asset_path.numpy()\n",
        "do_lower_case = bert_layer.resolved_object.do_lower_case.numpy()\n",
        "tokenizer = tokenization.FullTokenizer(vocab_file, do_lower_case)"
      ],
      "execution_count": null,
      "outputs": []
    },
    {
      "cell_type": "code",
      "metadata": {
        "id": "wt8TyIK5GUCb",
        "trusted": true,
        "colab_type": "code",
        "colab": {}
      },
      "source": [
        "train_input = bert_encode(train.text.values, tokenizer, max_len=max_len)\n",
        "test_input = bert_encode(test.text.values, tokenizer, max_len=max_len)\n",
        "train_labels = train.target.values"
      ],
      "execution_count": null,
      "outputs": []
    },
    {
      "cell_type": "code",
      "metadata": {
        "trusted": true,
        "id": "ZDqMZ3gHdBNE",
        "colab_type": "code",
        "colab": {},
        "outputId": "4a459a96-223a-415e-a616-6256fc0cfe0a"
      },
      "source": [
        "model = build_model(bert_layer, max_len=max_len)\n",
        "model.summary()"
      ],
      "execution_count": null,
      "outputs": [
        {
          "output_type": "stream",
          "text": [
            "Model: \"functional_1\"\n",
            "__________________________________________________________________________________________________\n",
            "Layer (type)                    Output Shape         Param #     Connected to                     \n",
            "==================================================================================================\n",
            "input_word_ids (InputLayer)     [(None, 160)]        0                                            \n",
            "__________________________________________________________________________________________________\n",
            "input_mask (InputLayer)         [(None, 160)]        0                                            \n",
            "__________________________________________________________________________________________________\n",
            "segment_ids (InputLayer)        [(None, 160)]        0                                            \n",
            "__________________________________________________________________________________________________\n",
            "keras_layer (KerasLayer)        [(None, 1024), (None 335141889   input_word_ids[0][0]             \n",
            "                                                                 input_mask[0][0]                 \n",
            "                                                                 segment_ids[0][0]                \n",
            "__________________________________________________________________________________________________\n",
            "tf_op_layer_strided_slice (Tens [(None, 1024)]       0           keras_layer[0][1]                \n",
            "__________________________________________________________________________________________________\n",
            "dense (Dense)                   (None, 1)            1025        tf_op_layer_strided_slice[0][0]  \n",
            "==================================================================================================\n",
            "Total params: 335,142,914\n",
            "Trainable params: 335,142,913\n",
            "Non-trainable params: 1\n",
            "__________________________________________________________________________________________________\n"
          ],
          "name": "stdout"
        }
      ]
    },
    {
      "cell_type": "code",
      "metadata": {
        "id": "l47iJQJWGYQL",
        "trusted": true,
        "colab_type": "code",
        "colab": {},
        "outputId": "15c4fa07-fe09-4efb-ddb9-ccd967290b5c"
      },
      "source": [
        "checkpoint =  tf.keras.callbacks.ModelCheckpoint('model.h5', monitor='val_loss', save_best_only=True)\n",
        "\n",
        "history=model.fit(\n",
        "    [train_input, train_add_input], train_labels,\n",
        "    validation_split=validation_split,\n",
        "    epochs=epochs,\n",
        "    callbacks=[checkpoint],\n",
        "    batch_size=batch_size,\n",
        ")"
      ],
      "execution_count": null,
      "outputs": [
        {
          "output_type": "stream",
          "text": [
            "Epoch 1/3\n",
            "373/373 [==============================] - 401s 1s/step - loss: 0.4300 - accuracy: 0.8115 - val_loss: 0.3945 - val_accuracy: 0.8236\n",
            "Epoch 2/3\n",
            "373/373 [==============================] - 366s 980ms/step - loss: 0.2566 - accuracy: 0.8996 - val_loss: 0.4145 - val_accuracy: 0.8397\n",
            "Epoch 3/3\n",
            "373/373 [==============================] - 366s 980ms/step - loss: 0.1146 - accuracy: 0.9579 - val_loss: 0.5156 - val_accuracy: 0.8323\n"
          ],
          "name": "stdout"
        }
      ]
    },
    {
      "cell_type": "code",
      "metadata": {
        "id": "Io5G4EJAG00l",
        "trusted": true,
        "colab_type": "code",
        "colab": {},
        "outputId": "682b301a-5060-4066-82f1-ceed76e03f0f"
      },
      "source": [
        "# summarize history for accuracy\n",
        "plt.plot(history.history['accuracy'])\n",
        "plt.plot(history.history['val_accuracy'])\n",
        "plt.title('model accuracy')\n",
        "plt.ylabel('accuracy')\n",
        "plt.xlabel('epoch')\n",
        "plt.legend(['train', 'test'], loc='upper left')\n",
        "plt.show()\n",
        "# summarize history for loss\n",
        "plt.plot(history.history['loss'])\n",
        "plt.plot(history.history['val_loss'])\n",
        "plt.title('model loss')\n",
        "plt.ylabel('loss')\n",
        "plt.xlabel('epoch')\n",
        "plt.legend(['train', 'test'], loc='upper left')\n",
        "plt.show()"
      ],
      "execution_count": null,
      "outputs": [
        {
          "output_type": "display_data",
          "data": {
            "text/plain": [
              "<Figure size 432x288 with 1 Axes>"
            ],
            "image/png": "[encoded data removed]"
          },
          "metadata": {
            "tags": [],
            "needs_background": "light"
          }
        },
        {
          "output_type": "display_data",
          "data": {
            "text/plain": [
              "<Figure size 432x288 with 1 Axes>"
            ],
            "image/png": "[encoded data removed]"
          },
          "metadata": {
            "tags": [],
            "needs_background": "light"
          }
        }
      ]
    },
    {
      "cell_type": "markdown",
      "metadata": {
        "id": "x1wBBXbZFxzB",
        "colab_type": "text"
      },
      "source": [
        "Here are some models and their scores with regard to hyperparameter optimization:\n",
        "\n",
        "1.Attempt Kaggle-Score: 0.83021 <br>\n",
        "* 4 epochs\n",
        "* 0,2 validation split\n",
        "* 16 batch size\n",
        "* 1e-5 learning rate \n",
        "* 0.2 dropout\n",
        "* with meta_information_layer\n",
        "\n",
        "2.Attempt Score: 0.82102 <br>\n",
        "* 6 epochs,\n",
        "* Validation Split 0.3,\n",
        "* batch size 16,\n",
        "* learning_rate 0.0000001,\n",
        "* dropout 0.1,\n",
        "* without meta_information_layer\n",
        "\n",
        "3.Attempt Score: 0.80386 <br>\n",
        "* 7 epochs,\n",
        "* Validation Split 0.3,\n",
        "* batch size 32,\n",
        "* learning_rate 0.0000005\n",
        "* dropout 0.1,\n",
        "* without meta_information_layer\n",
        "\n",
        "4.Attempt Score: 0.83910 <br>\n",
        "* 3 epochs,\n",
        "* Validation Split 0.2,\n",
        "* batch size 16,\n",
        "* learning_rate 0.0000005\n",
        "* no dropout\n",
        "* with meta_information_layer\n",
        "* changed BERT-Dataset to https://tfhub.dev/tensorflow/bert_en_uncased_L-24_H-1024_A-16/1\n",
        "* changed tokenizer\n",
        "\n",
        "Attempt 4 got the best result with an accuracy of 0.84492%\n"
      ]
    },
    {
      "cell_type": "code",
      "metadata": {
        "trusted": true,
        "id": "_zF3W6sJdBNK",
        "colab_type": "code",
        "colab": {}
      },
      "source": [
        "model.load_weights('model.h5')\n",
        "test_pred = model.predict([test_input])"
      ],
      "execution_count": null,
      "outputs": []
    },
    {
      "cell_type": "code",
      "metadata": {
        "id": "Czr7NunngbhQ",
        "trusted": true,
        "colab_type": "code",
        "colab": {}
      },
      "source": [
        "sub_sample['target'] = test_pred.round().astype(int)\n",
        "sub_sample.to_csv('submission.csv', index=False)"
      ],
      "execution_count": null,
      "outputs": []
    },
    {
      "cell_type": "code",
      "metadata": {
        "id": "ZelerF0u-azN",
        "trusted": true,
        "colab_type": "code",
        "colab": {},
        "outputId": "d92ba556-d2b7-4b83-ffbf-62cf953b5073"
      },
      "source": [
        "sub_sample.shape"
      ],
      "execution_count": null,
      "outputs": [
        {
          "output_type": "execute_result",
          "data": {
            "text/plain": [
              "(3263, 2)"
            ]
          },
          "metadata": {
            "tags": []
          },
          "execution_count": 65
        }
      ]
    },
    {
      "cell_type": "markdown",
      "metadata": {
        "id": "3it2JqAMa3eD",
        "colab_type": "text"
      },
      "source": [
        "Useful Notebooks:\n",
        "\n",
        "\n",
        "*   https://www.kaggle.com/xhlulu/disaster-nlp-keras-bert-using-tfhub\n",
        "*   https://www.kaggle.com/parthplc/word2vec-tutorial\n",
        "*   https://www.kaggle.com/joswin/bert-try#BERT-Model\n",
        "\n"
      ]
    }
  ]
}